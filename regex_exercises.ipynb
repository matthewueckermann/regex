{
  "cells": [
    {
      "cell_type": "markdown",
      "source": "# Regular Expression Exercises\n\n* Debugger: When debugging regular expressions, the best tool is [Regex101](https://regex101.com/). This is an interactive tool that let's you visualize a regular expression in action.\n* Tutorial: I tend to like RealPython's tutorials, here is their's on [Regular Expressions](https://realpython.com/regex-python/).\n* Tutorial: The [Official Python tutorial on Regular Expressions](https://docs.python.org/3/howto/regex.html) is not a bad introduction.\n* Cheat Sheet: People often make use of [Cheat Sheets](https://www.debuggex.com/cheatsheet/regex/python) when they have to do a lot of Regular Expressions.\n* Documentation: If you need it, the official [Python documentation on the `re` module](https://docs.python.org/3/library/re.html) can also be a resource.",
      "metadata": {
        "cell_id": "00000-ca881421-43ad-49e4-a129-d921378a9586",
        "deepnote_cell_type": "markdown"
      }
    },
    {
      "cell_type": "markdown",
      "source": "PLEASE FILL IN THE FOLLOWING:\n    \n* Your name: Matthew Ueckermann and Amani Arman\n* Link to the Github repo with this file: https://github.com/matthewueckermann/regex",
      "metadata": {
        "cell_id": "00001-ec9acf77-c48c-423b-81f1-20ad7b0419f4",
        "deepnote_cell_type": "markdown"
      }
    },
    {
      "cell_type": "code",
      "metadata": {
        "cell_id": "00002-346dbede-7841-4414-80e2-2ed7da903340",
        "deepnote_to_be_reexecuted": false,
        "source_hash": "41930bec",
        "execution_millis": 1,
        "execution_start": 1618371837519,
        "deepnote_cell_type": "code"
      },
      "source": "import re",
      "execution_count": 1,
      "outputs": []
    },
    {
      "cell_type": "markdown",
      "source": "## 1. Introduction\n\n**a)** Check whether the given strings contain `0xB0`. Display a boolean result as shown below.",
      "metadata": {
        "cell_id": "00003-d2e9a805-ad99-4a83-89f0-0856eac29005",
        "deepnote_cell_type": "markdown"
      }
    },
    {
      "cell_type": "code",
      "metadata": {
        "cell_id": "00004-c09910d4-94aa-432f-91c8-8b2aed002ae6",
        "deepnote_to_be_reexecuted": false,
        "source_hash": "23ea5b6e",
        "execution_millis": 1,
        "execution_start": 1618371837520,
        "deepnote_cell_type": "code"
      },
      "source": "line1 = 'start address: 0xA0, func1 address: 0xC0'\nline2 = 'end address: 0xFF, func2 address: 0xB0'\n\nassert bool(re.search(r'0xB0', line1)) == False\nassert bool(re.search(r'0xB0', line2)) == True",
      "execution_count": 2,
      "outputs": []
    },
    {
      "cell_type": "markdown",
      "source": "**b)** Replace all occurrences of `5` with `five` for the given string.",
      "metadata": {
        "cell_id": "00005-46906bbf-dd95-4a6e-926e-935f09ab2272",
        "deepnote_cell_type": "markdown"
      }
    },
    {
      "cell_type": "code",
      "metadata": {
        "cell_id": "00006-84ec30e1-8cf3-4448-99f0-f06343fd0af4",
        "deepnote_to_be_reexecuted": false,
        "source_hash": "406af4b3",
        "execution_millis": 0,
        "execution_start": 1618371837522,
        "deepnote_cell_type": "code"
      },
      "source": "ip = 'They ate 5 apples and 5 oranges'\n\nassert re.sub(\"5\", \"five\", ip) == 'They ate five apples and five oranges'",
      "execution_count": 3,
      "outputs": []
    },
    {
      "cell_type": "markdown",
      "source": "**c)** Replace first occurrence of `5` with `five` for the given string.",
      "metadata": {
        "cell_id": "00007-03847ef6-fd44-4f3d-a515-9c7769689523",
        "deepnote_cell_type": "markdown"
      }
    },
    {
      "cell_type": "code",
      "metadata": {
        "cell_id": "00008-636a8e4d-0e7a-4b15-b96c-e908da02b29a",
        "deepnote_to_be_reexecuted": false,
        "source_hash": "f68d477d",
        "execution_millis": 12,
        "execution_start": 1618371837526,
        "deepnote_cell_type": "code"
      },
      "source": "ip = 'They ate 5 apples and 5 oranges'\n\nassert re.sub(\"5\",\"five\",ip,1) == 'They ate five apples and 5 oranges'",
      "execution_count": 4,
      "outputs": []
    },
    {
      "cell_type": "markdown",
      "source": "**d)** For the given list, filter all elements that do *not* contain `e`.",
      "metadata": {
        "cell_id": "00009-46938fb3-5e51-4bc5-b6a5-620492d34da5",
        "deepnote_cell_type": "markdown"
      }
    },
    {
      "cell_type": "code",
      "metadata": {
        "cell_id": "00010-499271af-cf79-4f8a-9367-d4d2d23bf792",
        "deepnote_to_be_reexecuted": false,
        "source_hash": "d5f5b19",
        "execution_millis": 1,
        "execution_start": 1618371837538,
        "deepnote_cell_type": "code"
      },
      "source": "items = ['goal', 'new', 'user', 'sit', 'eat', 'dinner']\n\nassert [w for w in items if not re.search('e', w)] == ['goal', 'sit']",
      "execution_count": 5,
      "outputs": []
    },
    {
      "cell_type": "markdown",
      "source": "**e)** Replace all occurrences of `note` irrespective of case with `X`.",
      "metadata": {
        "cell_id": "00011-434ee064-59c1-4ef8-b16d-42337f329e46",
        "deepnote_cell_type": "markdown"
      }
    },
    {
      "cell_type": "code",
      "metadata": {
        "cell_id": "00012-e498d62f-27ad-418e-b318-57bed317ef1c",
        "deepnote_to_be_reexecuted": false,
        "source_hash": "308e45e2",
        "execution_millis": 1,
        "execution_start": 1618371837547,
        "deepnote_cell_type": "code"
      },
      "source": "ip = 'This note should not be NoTeD'\n\nassert re.sub(r'(?i)note',\"X\",ip) == 'This X should not be XD'",
      "execution_count": 6,
      "outputs": []
    },
    {
      "cell_type": "markdown",
      "source": "**f)** Check if `at` is present in the given byte input data.",
      "metadata": {
        "cell_id": "00013-978997a8-2adf-4977-80b2-465d6902beb6",
        "deepnote_cell_type": "markdown"
      }
    },
    {
      "cell_type": "code",
      "metadata": {
        "cell_id": "00014-2fb29040-a149-46e0-b33d-e08190de9658",
        "deepnote_to_be_reexecuted": false,
        "source_hash": "b0870806",
        "execution_millis": 1,
        "execution_start": 1618371837548,
        "deepnote_cell_type": "code"
      },
      "source": "ip = 'tiger imp goat'\n\nassert bool(re.search('at', ip)) == True",
      "execution_count": 7,
      "outputs": []
    },
    {
      "cell_type": "markdown",
      "source": "**g)** For the given input string, display all lines not containing `start` irrespective of case.",
      "metadata": {
        "cell_id": "00015-ad41fc9a-48e7-468d-8a75-7d0f3f1832a5",
        "deepnote_cell_type": "markdown"
      }
    },
    {
      "cell_type": "code",
      "metadata": {
        "cell_id": "00016-058500a1-fac3-49f9-9dcd-cd57102b4dd0",
        "deepnote_to_be_reexecuted": false,
        "source_hash": "1cb9b37f",
        "execution_millis": 29,
        "execution_start": 1618371837638,
        "deepnote_cell_type": "code"
      },
      "source": "para = '''good start\nStart working on that\nproject you always wanted\nstars are shining brightly\nhi there\nstart and try to\nfinish the book\nbye'''\n\npat = re.compile(\"start\")      ##### add your solution here\nfor line in para.split('\\n'):\n    if not pat.search(line):\n        print(line)\n\n\"\"\"project you always wanted\nstars are shining brightly\nhi there\nfinish the book\nbye\"\"\"",
      "execution_count": 8,
      "outputs": [
        {
          "name": "stdout",
          "text": "Start working on that\nproject you always wanted\nstars are shining brightly\nhi there\nfinish the book\nbye\n",
          "output_type": "stream"
        },
        {
          "output_type": "execute_result",
          "execution_count": 8,
          "data": {
            "text/plain": "'project you always wanted\\nstars are shining brightly\\nhi there\\nfinish the book\\nbye'"
          },
          "metadata": {}
        }
      ]
    },
    {
      "cell_type": "markdown",
      "source": "**h)** For the given list, filter all elements that contains either `a` or `w`.",
      "metadata": {
        "cell_id": "00017-c8c6bf0b-9135-400c-b502-97912e355da5",
        "deepnote_cell_type": "markdown"
      }
    },
    {
      "cell_type": "code",
      "metadata": {
        "cell_id": "00018-47f40584-3de5-4230-b5c4-16d7eb9ff7f2",
        "deepnote_to_be_reexecuted": false,
        "source_hash": "e7016eb8",
        "execution_millis": 0,
        "execution_start": 1618371837639,
        "deepnote_cell_type": "code"
      },
      "source": "items = ['goal', 'new', 'user', 'sit', 'eat', 'dinner']\n\n##### add your solution here\nassert [w for w in items if re.search('a', w) or re.search('w', w)] == ['goal', 'new', 'eat']",
      "execution_count": 9,
      "outputs": []
    },
    {
      "cell_type": "markdown",
      "source": "**i)** For the given list, filter all elements that contains both `e` and `n`.",
      "metadata": {
        "cell_id": "00019-228d409e-f3a6-4968-a2c5-baf647106fac",
        "deepnote_cell_type": "markdown"
      }
    },
    {
      "cell_type": "code",
      "metadata": {
        "cell_id": "00020-f3632359-150e-4bbe-b9e0-f5fa956ad7ba",
        "deepnote_to_be_reexecuted": false,
        "source_hash": "7cb7556c",
        "execution_millis": 368,
        "execution_start": 1618371837639,
        "deepnote_cell_type": "code"
      },
      "source": "items = ['goal', 'new', 'user', 'sit', 'eat', 'dinner']\n\n##### add your solution here\nassert [w for w in items if re.search() and re.search()] == ['new', 'dinner']",
      "execution_count": 10,
      "outputs": [
        {
          "output_type": "error",
          "ename": "TypeError",
          "evalue": "search() missing 2 required positional arguments: 'pattern' and 'string'",
          "traceback": [
            "\u001b[0;31m---------------------------------------------------------------------------\u001b[0m",
            "\u001b[0;31mTypeError\u001b[0m                                 Traceback (most recent call last)",
            "\u001b[0;32m<ipython-input-10-ffce406b6ff8>\u001b[0m in \u001b[0;36m<module>\u001b[0;34m\u001b[0m\n\u001b[1;32m      2\u001b[0m \u001b[0;34m\u001b[0m\u001b[0m\n\u001b[1;32m      3\u001b[0m \u001b[0;31m##### add your solution here\u001b[0m\u001b[0;34m\u001b[0m\u001b[0;34m\u001b[0m\u001b[0;34m\u001b[0m\u001b[0m\n\u001b[0;32m----> 4\u001b[0;31m \u001b[0;32massert\u001b[0m \u001b[0;34m[\u001b[0m\u001b[0mw\u001b[0m \u001b[0;32mfor\u001b[0m \u001b[0mw\u001b[0m \u001b[0;32min\u001b[0m \u001b[0mitems\u001b[0m \u001b[0;32mif\u001b[0m \u001b[0mre\u001b[0m\u001b[0;34m.\u001b[0m\u001b[0msearch\u001b[0m\u001b[0;34m(\u001b[0m\u001b[0;34m)\u001b[0m \u001b[0;32mand\u001b[0m \u001b[0mre\u001b[0m\u001b[0;34m.\u001b[0m\u001b[0msearch\u001b[0m\u001b[0;34m(\u001b[0m\u001b[0;34m)\u001b[0m\u001b[0;34m]\u001b[0m \u001b[0;34m==\u001b[0m \u001b[0;34m[\u001b[0m\u001b[0;34m'new'\u001b[0m\u001b[0;34m,\u001b[0m \u001b[0;34m'dinner'\u001b[0m\u001b[0;34m]\u001b[0m\u001b[0;34m\u001b[0m\u001b[0;34m\u001b[0m\u001b[0m\n\u001b[0m",
            "\u001b[0;32m<ipython-input-10-ffce406b6ff8>\u001b[0m in \u001b[0;36m<listcomp>\u001b[0;34m(.0)\u001b[0m\n\u001b[1;32m      2\u001b[0m \u001b[0;34m\u001b[0m\u001b[0m\n\u001b[1;32m      3\u001b[0m \u001b[0;31m##### add your solution here\u001b[0m\u001b[0;34m\u001b[0m\u001b[0;34m\u001b[0m\u001b[0;34m\u001b[0m\u001b[0m\n\u001b[0;32m----> 4\u001b[0;31m \u001b[0;32massert\u001b[0m \u001b[0;34m[\u001b[0m\u001b[0mw\u001b[0m \u001b[0;32mfor\u001b[0m \u001b[0mw\u001b[0m \u001b[0;32min\u001b[0m \u001b[0mitems\u001b[0m \u001b[0;32mif\u001b[0m \u001b[0mre\u001b[0m\u001b[0;34m.\u001b[0m\u001b[0msearch\u001b[0m\u001b[0;34m(\u001b[0m\u001b[0;34m)\u001b[0m \u001b[0;32mand\u001b[0m \u001b[0mre\u001b[0m\u001b[0;34m.\u001b[0m\u001b[0msearch\u001b[0m\u001b[0;34m(\u001b[0m\u001b[0;34m)\u001b[0m\u001b[0;34m]\u001b[0m \u001b[0;34m==\u001b[0m \u001b[0;34m[\u001b[0m\u001b[0;34m'new'\u001b[0m\u001b[0;34m,\u001b[0m \u001b[0;34m'dinner'\u001b[0m\u001b[0;34m]\u001b[0m\u001b[0;34m\u001b[0m\u001b[0;34m\u001b[0m\u001b[0m\n\u001b[0m",
            "\u001b[0;31mTypeError\u001b[0m: search() missing 2 required positional arguments: 'pattern' and 'string'"
          ]
        }
      ]
    },
    {
      "cell_type": "markdown",
      "source": "**j)** For the given string, replace `0xA0` with `0x7F` and `0xC0` with `0x1F`.",
      "metadata": {
        "cell_id": "00021-bb8ddf45-a9b1-4f8b-94fa-a534579ad87f",
        "deepnote_cell_type": "markdown"
      }
    },
    {
      "cell_type": "code",
      "metadata": {
        "cell_id": "00022-7769c851-982f-4d56-85b8-6e61eb0466dd",
        "deepnote_to_be_reexecuted": true,
        "source_hash": "86547944",
        "deepnote_cell_type": "code"
      },
      "source": "ip = 'start address: 0xA0, func1 address: 0xC0'\n\n##### add your solution here\nassert ___ == 'start address: 0x7F, func1 address: 0x1F'",
      "execution_count": null,
      "outputs": []
    },
    {
      "cell_type": "markdown",
      "source": "<br>\n\n# 2. Anchors\n\n**a)** Check if the given strings start with `be`.",
      "metadata": {
        "cell_id": "00023-9b6f3827-4596-4a8b-ac87-e5af2e2131eb",
        "deepnote_cell_type": "markdown"
      }
    },
    {
      "cell_type": "code",
      "metadata": {
        "cell_id": "00024-76c18faa-b2e2-424d-ba39-71eae466e3da",
        "deepnote_to_be_reexecuted": true,
        "source_hash": "68affbb7",
        "execution_millis": 1,
        "deepnote_cell_type": "code"
      },
      "source": "line1 = 'be nice'\nline2 = '\"best!\"'\nline3 = 'better?'\nline4 = 'oh no\\nbear spotted'\n\npat = re.compile(r'^be')       ##### add your solution here\nassert bool(pat.search(line1)) == True\nassert bool(pat.search(line2)) == False\nassert bool(pat.search(line3)) == True\nassert bool(pat.search(line4)) == False",
      "outputs": [],
      "execution_count": null
    },
    {
      "cell_type": "markdown",
      "source": "**b)** For the given input string, change only whole word `red` to `brown`",
      "metadata": {
        "cell_id": "00025-be8f1545-70df-4c51-921d-fc661e1d68e3",
        "deepnote_cell_type": "markdown"
      }
    },
    {
      "cell_type": "code",
      "metadata": {
        "cell_id": "00026-9e4b3759-73c5-4e51-9d0d-c2e33447f06e",
        "deepnote_to_be_reexecuted": true,
        "source_hash": "ee1ad3df",
        "deepnote_cell_type": "code"
      },
      "source": "words = 'bred red spread credible'\n\nassert re.sub() == 'bred brown spread credible'",
      "execution_count": null,
      "outputs": []
    },
    {
      "cell_type": "markdown",
      "source": "**c)** For the given input list, filter all elements that contains `42` surrounded by word characters.",
      "metadata": {
        "cell_id": "00027-fa6f0d59-8cd4-42fc-866a-cfd6d4d8a893",
        "deepnote_cell_type": "markdown"
      }
    },
    {
      "cell_type": "code",
      "metadata": {
        "cell_id": "00028-819f3522-7de7-49f6-85ce-51590a5124cc",
        "deepnote_to_be_reexecuted": false,
        "source_hash": "cb01401c",
        "execution_millis": 6,
        "execution_start": 1618372730104,
        "deepnote_cell_type": "code"
      },
      "source": "words = ['hi42bye', 'nice1423', 'bad42', 'cool_42a', 'fake4b']\n\nassert [w for w in words if re.search(r'\\w+42\\w+',w)] == ['hi42bye', 'nice1423', 'cool_42a']",
      "execution_count": 24,
      "outputs": []
    },
    {
      "cell_type": "markdown",
      "source": "**d)** For the given input list, filter all elements that start with `den` or end with `ly`.",
      "metadata": {
        "cell_id": "00029-7f510889-b2ad-4b50-949f-0aad443b3831",
        "deepnote_cell_type": "markdown"
      }
    },
    {
      "cell_type": "code",
      "metadata": {
        "cell_id": "00030-60e37019-711c-4e8e-8d62-a72146afddd6",
        "deepnote_to_be_reexecuted": true,
        "source_hash": "eb23d9fc",
        "deepnote_cell_type": "code"
      },
      "source": "items = ['lovely', '1\\ndentist', '2 lonely', 'eden', 'fly\\n', 'dent']\n\nassert [e for e in items if ] == ['lovely', '2 lonely', 'dent']",
      "execution_count": null,
      "outputs": []
    },
    {
      "cell_type": "markdown",
      "source": "**e)** For the given input string, change whole word `mall` to `1234` only if it is at the start of a line.",
      "metadata": {
        "cell_id": "00031-cee4bc07-e02c-442e-b4f0-a8be5c408237",
        "deepnote_cell_type": "markdown"
      }
    },
    {
      "cell_type": "code",
      "metadata": {
        "cell_id": "00032-4755f5f6-4383-4e25-ac64-964f99fb56d8",
        "deepnote_to_be_reexecuted": false,
        "source_hash": "73459694",
        "execution_millis": 0,
        "execution_start": 1618373449808,
        "deepnote_cell_type": "code"
      },
      "source": "para = '''\nball fall wall tall\nmall call ball pall\nwall mall ball fall\nmallet wallet malls'''\n\nassert re.sub(r'\\nmall\\s',\"\\n1234 \",para) == \"\"\"\nball fall wall tall\n1234 call ball pall\nwall mall ball fall\nmallet wallet malls\"\"\"",
      "execution_count": 39,
      "outputs": [
        {
          "name": "stdout",
          "text": "\nball fall wall tall\n1234call ball pall\nwall mall ball fall\nmallet wallet malls\n",
          "output_type": "stream"
        }
      ]
    },
    {
      "cell_type": "markdown",
      "source": "**f)** For the given list, filter all elements having a line starting with `den` or ending with `ly`.",
      "metadata": {
        "cell_id": "00033-b84f2bfb-e37a-4bc0-aaa7-4106c048cfae",
        "deepnote_cell_type": "markdown"
      }
    },
    {
      "cell_type": "code",
      "metadata": {
        "cell_id": "00034-e2dc613d-8f09-4c57-9346-7b7c73eb3a3b",
        "deepnote_to_be_reexecuted": true,
        "source_hash": "1a34bcca",
        "deepnote_cell_type": "code"
      },
      "source": "items = ['lovely', '1\\ndentist', '2 lonely', 'eden', 'fly\\nfar', 'dent']\n\n##### add your solution here\nassert ___ == ['lovely', '1\\ndentist', '2 lonely', 'fly\\nfar', 'dent']",
      "execution_count": null,
      "outputs": []
    },
    {
      "cell_type": "markdown",
      "source": "**g)** For the given input list, filter all whole elements `12\\nthree` irrespective of case.",
      "metadata": {
        "cell_id": "00035-ea4d2f36-1f98-4a43-9417-ff5f3ecee6e3",
        "deepnote_cell_type": "markdown"
      }
    },
    {
      "cell_type": "code",
      "metadata": {
        "cell_id": "00036-207dc57a-0363-450f-8b81-6570e9953867",
        "deepnote_to_be_reexecuted": true,
        "source_hash": "ad318f42",
        "deepnote_cell_type": "code"
      },
      "source": "items = ['12\\nthree\\n', '12\\nThree', '12\\nthree\\n4', '12\\nthree']\n##### add your solution here\nassert ___ == ['12\\nThree', '12\\nthree']",
      "execution_count": null,
      "outputs": []
    },
    {
      "cell_type": "markdown",
      "source": "**h)** For the given input list, replace `hand` with `X` for all elements that start with `hand` followed by at least one word character.",
      "metadata": {
        "cell_id": "00037-15b7cb28-e391-46fa-92d2-e1e4a9dc8522",
        "deepnote_cell_type": "markdown"
      }
    },
    {
      "cell_type": "code",
      "metadata": {
        "cell_id": "00038-f1d15c87-9299-4fd4-afa5-631653e9703a",
        "deepnote_to_be_reexecuted": true,
        "source_hash": "de22d43f",
        "deepnote_cell_type": "code"
      },
      "source": "items = ['handed', 'hand', 'handy', 'unhanded', 'handle', 'hand-2']\n\n##### add your solution here\nassert ___ == ['Xed', 'hand', 'Xy', 'unhanded', 'Xle', 'hand-2']",
      "execution_count": null,
      "outputs": []
    },
    {
      "cell_type": "markdown",
      "source": "**i)** For the given input list, filter all elements starting with `h`. Additionally, replace `e` with `X` for these filtered elements.",
      "metadata": {
        "cell_id": "00039-c6f5097a-dfff-4682-9331-c482d6c9887e",
        "deepnote_cell_type": "markdown"
      }
    },
    {
      "cell_type": "code",
      "metadata": {
        "cell_id": "00040-dbfcff62-5491-41d6-a7e6-6f36dabf6382",
        "deepnote_to_be_reexecuted": true,
        "source_hash": "899b10e1",
        "deepnote_cell_type": "code"
      },
      "source": "items = ['handed', 'hand', 'handy', 'unhanded', 'handle', 'hand-2']\n\n##### add your solution here\nassert ___ == ['handXd', 'hand', 'handy', 'handlX', 'hand-2']",
      "execution_count": null,
      "outputs": []
    },
    {
      "cell_type": "markdown",
      "source": "<br>\n\n# 3. Alternation and Grouping\n\n**a)** For the given input list, filter all elements that start with `den` or end with `ly`",
      "metadata": {
        "cell_id": "00041-f1c714ec-52ec-4b5a-98fa-c2b6a1cc554c",
        "deepnote_cell_type": "markdown"
      }
    },
    {
      "cell_type": "code",
      "metadata": {
        "cell_id": "00042-49ee916b-9aea-46de-8771-eb62ee69f1ad",
        "deepnote_to_be_reexecuted": true,
        "source_hash": "f8aac264",
        "deepnote_cell_type": "code"
      },
      "source": "items = ['lovely', '1\\ndentist', '2 lonely', 'eden', 'fly\\n', 'dent']\n\n##### add your solution here\nassert ___ == ['lovely', '2 lonely', 'dent']",
      "execution_count": null,
      "outputs": []
    },
    {
      "cell_type": "markdown",
      "source": "**b)** For the given list, filter all elements having a line starting with `den` or ending with `ly`.",
      "metadata": {
        "cell_id": "00043-60d28174-5c1b-4b9d-b92f-9fad7653c9cf",
        "deepnote_cell_type": "markdown"
      }
    },
    {
      "cell_type": "code",
      "metadata": {
        "cell_id": "00044-d2316d03-1663-4add-a109-5fb460a7bfd6",
        "deepnote_to_be_reexecuted": true,
        "source_hash": "1a34bcca",
        "deepnote_cell_type": "code"
      },
      "source": "items = ['lovely', '1\\ndentist', '2 lonely', 'eden', 'fly\\nfar', 'dent']\n\n##### add your solution here\nassert ___ == ['lovely', '1\\ndentist', '2 lonely', 'fly\\nfar', 'dent']",
      "execution_count": null,
      "outputs": []
    },
    {
      "cell_type": "markdown",
      "source": "**c)** For the given input strings, replace all occurrences of `removed` or `reed` or `received` or `refused` with `X`.",
      "metadata": {
        "cell_id": "00045-4627772b-ae1e-4b88-a614-93ef1a8f34fb",
        "deepnote_cell_type": "markdown"
      }
    },
    {
      "cell_type": "code",
      "metadata": {
        "cell_id": "00046-0fb172ca-9c58-4b41-8326-aa74f1885cdb",
        "deepnote_to_be_reexecuted": true,
        "source_hash": "f9784868",
        "deepnote_cell_type": "code"
      },
      "source": "s1 = 'creed refuse removed read'\ns2 = 'refused reed redo received'\n\npat = re.compile()        ##### add your solution here\nassert pat.sub('X', s1) == 'cX refuse X read'\nassert pat.sub('X', s2) == 'X X redo X'",
      "execution_count": null,
      "outputs": []
    },
    {
      "cell_type": "markdown",
      "source": "**d)** For the given input strings, replace all matches from the list `words` with `A`.",
      "metadata": {
        "cell_id": "00047-32594b94-560d-4ec1-8947-7c7d16534b63",
        "deepnote_cell_type": "markdown"
      }
    },
    {
      "cell_type": "code",
      "metadata": {
        "cell_id": "00048-40cfcd9b-51c0-42e3-ba92-e09a30d68b04",
        "deepnote_to_be_reexecuted": true,
        "source_hash": "70e7c541",
        "deepnote_cell_type": "code"
      },
      "source": "s1 = 'plate full of slate'\ns2 = \"slated for later, don't be late\"\nwords = ['late', 'later', 'slated']\n\npat = re.compile()        ##### add your solution here\nassert pat.sub('A', s1) == 'pA full of sA'\nassert pat.sub('A', s2) == \"A for A, don't be A\"",
      "execution_count": null,
      "outputs": []
    },
    {
      "cell_type": "markdown",
      "source": "**e)** Filter all whole elements from the input list `items` based on elements listed in `words`.",
      "metadata": {
        "cell_id": "00049-edac2bdd-7361-43bf-992d-2765f3889555",
        "deepnote_cell_type": "markdown"
      }
    },
    {
      "cell_type": "code",
      "metadata": {
        "cell_id": "00050-9f8f1da5-273e-4a63-b0ef-7753a95dbee4",
        "deepnote_to_be_reexecuted": true,
        "source_hash": "893aceef",
        "deepnote_cell_type": "code"
      },
      "source": "items = ['slate', 'later', 'plate', 'late', 'slates', 'slated ']\nwords = ['late', 'later', 'slated']\n\npat = re.compile()       ##### add your solution here\n\n##### add your solution here\nassert ___ == ['later', 'late']",
      "execution_count": null,
      "outputs": []
    },
    {
      "cell_type": "markdown",
      "source": "<br>\n\n# 4. Escaping metacharacters\n\n**a)** Transform the given input strings to the expected output using same logic on both strings.",
      "metadata": {
        "cell_id": "00051-6223fd80-3f03-4a93-8b1b-d527262bbfb8",
        "deepnote_cell_type": "markdown"
      }
    },
    {
      "cell_type": "code",
      "metadata": {
        "cell_id": "00052-1d557405-08d0-423a-a52d-abb52f1b8036",
        "deepnote_to_be_reexecuted": true,
        "source_hash": "d945e054",
        "deepnote_cell_type": "code"
      },
      "source": "str1 = '(9-2)*5+qty/3'\nstr2 = '(qty+4)/2-(9-2)*5+pq/4'\n\n##### add your solution here for str1\nassert ___ == '35+qty/3'\n##### add your solution here for str2\nassert ___ == '(qty+4)/2-35+pq/4'",
      "execution_count": null,
      "outputs": []
    },
    {
      "cell_type": "markdown",
      "source": "**b)** Replace `(4)\\|` with `2` only at the start or end of given input strings.",
      "metadata": {
        "cell_id": "00053-0007a010-99d2-47e4-a35d-0b16c6c2edee",
        "deepnote_cell_type": "markdown"
      }
    },
    {
      "cell_type": "code",
      "metadata": {
        "cell_id": "00054-f5a3fdfb-684a-4d6d-a899-a3139fa4eb5c",
        "deepnote_to_be_reexecuted": true,
        "source_hash": "af5d850a",
        "deepnote_cell_type": "code"
      },
      "source": "s1 = r'2.3/(4)\\|6 foo 5.3-(4)\\|'\ns2 = r'(4)\\|42 - (4)\\|3'\ns3 = 'two - (4)\\\\|\\n'\n\npat = re.compile()        ##### add your solution here\nassert pat.sub('2', s1) == '2.3/(4)\\\\|6 foo 5.3-2'\nassert pat.sub('2', s2) == '242 - (4)\\\\|3'\nassert pat.sub('2', s3) == 'two - (4)\\\\|\\n'",
      "execution_count": null,
      "outputs": []
    },
    {
      "cell_type": "markdown",
      "source": "**c)** Replace any matching element from the list `items` with `X` for given the input strings. Match the elements from `items` literally. Assume no two elements of `items` will result in any matching conflict.",
      "metadata": {
        "cell_id": "00055-733c7f2d-ab06-490f-9be3-e75ceeb1b5b0",
        "deepnote_cell_type": "markdown"
      }
    },
    {
      "cell_type": "code",
      "metadata": {
        "cell_id": "00056-c9d4bc64-6b81-49e7-806f-d2a47fd6e7a8",
        "deepnote_to_be_reexecuted": true,
        "source_hash": "59da251f",
        "deepnote_cell_type": "code"
      },
      "source": "items = ['a.b', '3+n', r'x\\y\\z', 'qty||price', '{n}']\npat = re.compile()      ##### add your solution here\nassert pat.sub('X', '0a.bcd') == '0Xcd'\nassert pat.sub('X', 'E{n}AMPLE') == 'EXAMPLE'\nassert pat.sub('X', r'43+n2 ax\\y\\ze') == '4X2 aXe'",
      "execution_count": null,
      "outputs": []
    },
    {
      "cell_type": "markdown",
      "source": "**d)** Replace backspace character `\\b` with a single space character for the given input string.",
      "metadata": {
        "cell_id": "00057-2fe4d169-f982-42e0-8439-2fa60a15a5c8",
        "deepnote_cell_type": "markdown"
      }
    },
    {
      "cell_type": "code",
      "metadata": {
        "cell_id": "00058-d27340ce-6cae-4504-8881-3ff24ad58d75",
        "deepnote_to_be_reexecuted": true,
        "source_hash": "2676c196",
        "deepnote_cell_type": "code"
      },
      "source": "ip = '123\\b456'\nip",
      "execution_count": null,
      "outputs": []
    },
    {
      "cell_type": "code",
      "metadata": {
        "cell_id": "00059-475f76c3-33bb-488c-95fd-9fd1a9fb068d",
        "deepnote_to_be_reexecuted": true,
        "source_hash": "6cd42651",
        "deepnote_cell_type": "code"
      },
      "source": "assert re.sub() == '123 456'",
      "execution_count": null,
      "outputs": []
    },
    {
      "cell_type": "markdown",
      "source": "**e)** Replace all occurrences of `\\e` with `e`.",
      "metadata": {
        "cell_id": "00060-a029cd5f-59e7-4f94-a16b-e10aa2dac20e",
        "deepnote_cell_type": "markdown"
      }
    },
    {
      "cell_type": "code",
      "metadata": {
        "cell_id": "00061-0f6cc98e-c51e-4801-a5e8-784024e48a5e",
        "deepnote_to_be_reexecuted": true,
        "source_hash": "10bcb1ab",
        "deepnote_cell_type": "code"
      },
      "source": "ip = r'th\\er\\e ar\\e common asp\\ects among th\\e alt\\ernations'\n\nassert re.sub() == 'there are common aspects among the alternations'",
      "execution_count": null,
      "outputs": []
    },
    {
      "cell_type": "markdown",
      "source": "**f)** Replace any matching item from the list `eqns` with `X` for given the string `ip`. Match the items from `eqns` literally.",
      "metadata": {
        "cell_id": "00062-04282845-be32-4239-9ced-3f6eafab1817",
        "deepnote_cell_type": "markdown"
      }
    },
    {
      "cell_type": "code",
      "metadata": {
        "cell_id": "00063-b0f77dd3-dff9-4e37-9bec-1248429987d9",
        "deepnote_to_be_reexecuted": true,
        "source_hash": "5e4024ed",
        "deepnote_cell_type": "code"
      },
      "source": "ip = '3-(a^b)+2*(a^b)-(a/b)+3'\neqns = ['(a^b)', '(a/b)', '(a^b)+2']\n\n##### add your solution here\n\nassert pat.sub('X', ip) == '3-X*X-X+3'",
      "execution_count": null,
      "outputs": []
    },
    {
      "cell_type": "markdown",
      "source": "<br>\n\n# 5. Dot metacharacter and Quantifiers\n\nSince `.` metacharacter doesn't match newline character by default, assume that the input strings in the following exercises will not contain newline characters.\n\n**a)** Replace `42//5` or `42/5` with `8` for the given input.",
      "metadata": {
        "cell_id": "00064-3fdd4930-81ca-4215-9dc2-4e157a3d687e",
        "deepnote_cell_type": "markdown"
      }
    },
    {
      "cell_type": "code",
      "metadata": {
        "cell_id": "00065-86863b75-0bc9-4b06-861b-580037fa0b36",
        "deepnote_to_be_reexecuted": true,
        "source_hash": "d689c2fe",
        "deepnote_cell_type": "code"
      },
      "source": "ip = 'a+42//5-c pressure*3+42/5-14256'\n\nassert re.sub() == 'a+8-c pressure*3+8-14256'",
      "execution_count": null,
      "outputs": []
    },
    {
      "cell_type": "markdown",
      "source": "**b)** For the list `items`, filter all elements starting with `hand` and ending with at most one more character or `le`.",
      "metadata": {
        "cell_id": "00066-3bebade8-4141-42c4-97a6-4f6f9f1eb446",
        "deepnote_cell_type": "markdown"
      }
    },
    {
      "cell_type": "code",
      "metadata": {
        "cell_id": "00067-2244da9a-b027-49b0-85c5-64d70d2a68cc",
        "deepnote_to_be_reexecuted": true,
        "source_hash": "4a28f9ab",
        "deepnote_cell_type": "code"
      },
      "source": "items = ['handed', 'hand', 'handled', 'handy', 'unhand', 'hands', 'handle']\n\n##### add your solution here\nassert ___ == ['hand', 'handy', 'hands', 'handle']",
      "execution_count": null,
      "outputs": []
    },
    {
      "cell_type": "markdown",
      "source": "**c)** Use `re.split` to get the output as shown for the given input strings.",
      "metadata": {
        "cell_id": "00068-016a0672-fb3a-4af3-be04-c6398600c5f2",
        "deepnote_cell_type": "markdown"
      }
    },
    {
      "cell_type": "code",
      "metadata": {
        "cell_id": "00069-a2f2f95a-39d7-4a7f-a5a5-a87b17c933b8",
        "deepnote_to_be_reexecuted": true,
        "source_hash": "5c0748d5",
        "deepnote_cell_type": "code"
      },
      "source": "eqn1 = 'a+42//5-c'\neqn2 = 'pressure*3+42/5-14256'\neqn3 = 'r*42-5/3+42///5-42/53+a'\n##### add your solution here for eqn1\nassert ___ == ['a+', '-c']\n##### add your solution here for eqn2\nassert ___ == ['pressure*3+', '-14256']\n##### add your solution here for eqn3\nassert ___ == ['r*42-5/3+42///5-', '3+a']",
      "execution_count": null,
      "outputs": []
    },
    {
      "cell_type": "markdown",
      "source": "**d)** For the given input strings, remove everything from the first occurrence of `i` till end of the string.",
      "metadata": {
        "cell_id": "00070-1ddad4e1-e451-496c-b488-d055c54bf0a4",
        "deepnote_cell_type": "markdown"
      }
    },
    {
      "cell_type": "code",
      "metadata": {
        "cell_id": "00071-084ba599-3f46-4257-aea4-11d0b6571c71",
        "deepnote_to_be_reexecuted": true,
        "source_hash": "96e84237",
        "deepnote_cell_type": "code"
      },
      "source": "s1 = 'remove the special meaning of such constructs'\ns2 = 'characters while constructing'\n\npat = re.compile()        ##### add your solution here\n\nassert pat.sub('', s1) == 'remove the spec'\n\nassert pat.sub('', s2) == 'characters wh'",
      "execution_count": null,
      "outputs": []
    },
    {
      "cell_type": "markdown",
      "source": "**e)** For the given strings, construct a RE to get output as shown.",
      "metadata": {
        "cell_id": "00072-f384109d-e667-4a7b-b8ff-af6c9b2f943f",
        "deepnote_cell_type": "markdown"
      }
    },
    {
      "cell_type": "code",
      "metadata": {
        "cell_id": "00073-4279c293-c97e-4ad6-899e-b5a851948f7e",
        "deepnote_to_be_reexecuted": true,
        "source_hash": "358a48db",
        "deepnote_cell_type": "code"
      },
      "source": "str1 = 'a+b(addition)'\nstr2 = 'a/b(division) + c%d(#modulo)'\nstr3 = 'Hi there(greeting). Nice day(a(b)'\n\nremove_parentheses = re.compile()     ##### add your solution here\n\nassert remove_parentheses.sub('', str1) == 'a+b'\nassert remove_parentheses.sub('', str2) == 'a/b + c%d'\nassert remove_parentheses.sub('', str3) == 'Hi there. Nice day'",
      "execution_count": null,
      "outputs": []
    },
    {
      "cell_type": "markdown",
      "source": "**f)** Correct the given RE to get the expected output.",
      "metadata": {
        "cell_id": "00074-c5361d59-2cf0-4288-94f4-b87fd29ee1d1",
        "deepnote_cell_type": "markdown"
      }
    },
    {
      "cell_type": "code",
      "metadata": {
        "cell_id": "00075-22018cd6-5b9e-4f74-994e-b7b6120da238",
        "deepnote_to_be_reexecuted": true,
        "source_hash": "8bfe1e68",
        "deepnote_cell_type": "code"
      },
      "source": "words = 'plink incoming tint winter in caution sentient'\nchange = re.compile(r'int|in|ion|ing|inco|inter|ink')\n\n# wrong output\nassert change.sub('X', words) == 'plXk XcomXg tX wXer X cautX sentient'\n\n# expected output\nchange = re.compile()       ##### add your solution here\nassert change.sub('X', words) == 'plX XmX tX wX X cautX sentient'",
      "execution_count": null,
      "outputs": []
    },
    {
      "cell_type": "markdown",
      "source": "**g)** For the given greedy quantifiers, what would be the equivalent form using `{m,n}` representation?\n\n* `?` is same as\n* `*` is same as\n* `+` is same as\n\n**h)** `(a*|b*)` is same as `(a|b)*` — True or False?\n\n\n**i)** For the given input strings, remove everything from the first occurrence of `test` (irrespective of case) till end of the string, provided `test` isn't at the end of the string.",
      "metadata": {
        "cell_id": "00076-c0712d1c-d10c-4f12-8420-c96b957e4f78",
        "deepnote_cell_type": "markdown"
      }
    },
    {
      "cell_type": "code",
      "metadata": {
        "cell_id": "00077-a4bb9531-c14c-406b-b7a6-90999f56dc13",
        "deepnote_to_be_reexecuted": true,
        "source_hash": "cd8c794d",
        "deepnote_cell_type": "code"
      },
      "source": "s1 = 'this is a Test'\ns2 = 'always test your RE for corner cases'\ns3 = 'a TEST of skill tests?'\n\npat = re.compile()      ##### add your solution here\n\nassert pat.sub('', s1) == 'this is a Test'\nassert pat.sub('', s2) == 'always '\nassert pat.sub('', s3) == 'a '",
      "execution_count": null,
      "outputs": []
    },
    {
      "cell_type": "markdown",
      "source": "**j)** For the input list `words`, filter all elements starting with `s` and containing `e` and `t` in any order.",
      "metadata": {
        "cell_id": "00078-f1ed8917-7a9e-4cef-996e-0d7925290ba7",
        "deepnote_cell_type": "markdown"
      }
    },
    {
      "cell_type": "code",
      "metadata": {
        "cell_id": "00079-c9264f98-b08c-43c6-a79e-8ca624ebd63a",
        "deepnote_to_be_reexecuted": true,
        "source_hash": "e933acae",
        "deepnote_cell_type": "code"
      },
      "source": "words = ['sequoia', 'subtle', 'exhibit', 'asset', 'sets', 'tests', 'site']\n\n##### add your solution here\nassert ___ == ['subtle', 'sets', 'site']",
      "execution_count": null,
      "outputs": []
    },
    {
      "cell_type": "markdown",
      "source": "**k)** For the input list `words`, remove all elements having less than `6` characters.",
      "metadata": {
        "cell_id": "00080-7adf23cb-10cd-49f7-abc5-147400392aa0",
        "deepnote_cell_type": "markdown"
      }
    },
    {
      "cell_type": "code",
      "metadata": {
        "cell_id": "00081-a2cd8a05-f924-4522-a795-0bbc7b34d010",
        "deepnote_to_be_reexecuted": true,
        "source_hash": "ba30d9d8",
        "deepnote_cell_type": "code"
      },
      "source": "words = ['sequoia', 'subtle', 'exhibit', 'asset', 'sets', 'tests', 'site']\n\n##### add your solution here\nassert ___ == ['sequoia', 'subtle', 'exhibit']",
      "execution_count": null,
      "outputs": []
    },
    {
      "cell_type": "markdown",
      "source": "**l)** For the input list `words`, filter all elements starting with `s` or `t` and having a maximum of `6` characters.",
      "metadata": {
        "cell_id": "00082-cb7ffada-85b1-483b-a843-5a3111518019",
        "deepnote_cell_type": "markdown"
      }
    },
    {
      "cell_type": "code",
      "metadata": {
        "cell_id": "00083-37626946-2da9-4b9d-b178-3716b90dda3e",
        "deepnote_to_be_reexecuted": true,
        "source_hash": "53f7b20a",
        "deepnote_cell_type": "code"
      },
      "source": "words = ['sequoia', 'subtle', 'exhibit', 'asset', 'sets', 'tests', 'site']\n\n##### add your solution here\nassert ___ == ['subtle', 'sets', 'tests', 'site']",
      "execution_count": null,
      "outputs": []
    },
    {
      "cell_type": "markdown",
      "source": "**m)** Can you reason out why this code results in the output shown? The aim was to remove all `<characters>` patterns but not the `<>` ones. The expected result was `'a 1<> b 2<> c'`.",
      "metadata": {
        "cell_id": "00084-f9f43691-c519-47fa-98b4-7f56c4a9dfc6",
        "deepnote_cell_type": "markdown"
      }
    },
    {
      "cell_type": "code",
      "metadata": {
        "cell_id": "00085-3a5a1c1a-4bd6-49aa-9066-8719ff84e570",
        "deepnote_to_be_reexecuted": true,
        "source_hash": "ceb4f612",
        "deepnote_cell_type": "code"
      },
      "source": "ip = 'a<apple> 1<> b<bye> 2<> c<cat>'\n\nassert re.sub(r'<.+?>', '', ip) == 'a 1 2'",
      "execution_count": null,
      "outputs": []
    },
    {
      "cell_type": "markdown",
      "source": "**n)** Use `re.split` to get the output as shown below for given input strings.",
      "metadata": {
        "cell_id": "00086-a360c4a2-99ba-4ba7-8b97-77434d4b7fc4",
        "deepnote_cell_type": "markdown"
      }
    },
    {
      "cell_type": "code",
      "metadata": {
        "cell_id": "00087-2b9478e4-489e-482a-8162-ea3eaaaa1e9d",
        "deepnote_to_be_reexecuted": true,
        "source_hash": "967eb30",
        "deepnote_cell_type": "code"
      },
      "source": "s1 = 'go there  //   \"this // that\"'\ns2 = 'a//b // c//d e//f // 4//5'\ns3 = '42// hi//bye//see // carefully'\n\npat = re.compile()     ##### add your solution here\n\nassert pat.split() == ['go there', '\"this // that\"']\nassert pat.split() == ['a//b', 'c//d e//f // 4//5']\nassert pat.split() == ['42// hi//bye//see', 'carefully']",
      "execution_count": null,
      "outputs": []
    },
    {
      "cell_type": "markdown",
      "source": "<br>\n\n# 6. Working with matched portions\n\n**a)** For the given strings, extract the matching portion from first `is` to last `t`.",
      "metadata": {
        "cell_id": "00088-1644c0de-3304-4e9c-aa1d-1a3a744ac09c",
        "deepnote_cell_type": "markdown"
      }
    },
    {
      "cell_type": "code",
      "metadata": {
        "cell_id": "00089-0a2d8d47-2fa9-4a5e-b569-d390d35a5e61",
        "deepnote_to_be_reexecuted": true,
        "source_hash": "7346cd13",
        "deepnote_cell_type": "code"
      },
      "source": "str1 = 'This the biggest fruit you have seen?'\nstr2 = 'Your mission is to read and practice consistently'\n\npat = re.compile()     ##### add your solution here\n\n##### add your solution here for str1\nassert ___ == 'is the biggest fruit'\n##### add your solution here for str2\nassert ___ == 'ission is to read and practice consistent'",
      "execution_count": null,
      "outputs": []
    },
    {
      "cell_type": "markdown",
      "source": "**b)** Find the starting index of first occurrence of `is` or `the` or `was` or `to` for the given input strings.",
      "metadata": {
        "cell_id": "00090-0a82b733-d382-4b8d-80e0-28c6ddc69def",
        "deepnote_cell_type": "markdown"
      }
    },
    {
      "cell_type": "code",
      "metadata": {
        "cell_id": "00091-b2b4b740-702a-41e5-a5ff-15f36da2c200",
        "deepnote_to_be_reexecuted": true,
        "source_hash": "20dd7fa4",
        "deepnote_cell_type": "code"
      },
      "source": "s1 = 'match after the last newline character'\ns2 = 'and then you want to test'\ns3 = 'this is good bye then'\ns4 = 'who was there to see?'\n\npat = re.compile()      ##### add your solution here\n\n##### add your solution here for s1\nassert ___ == 12\n##### add your solution here for s2\nassert ___ == 4\n##### add your solution here for s3\nassert ___ == 2\n##### add your solution here for s4\nassert ___ == 4",
      "execution_count": null,
      "outputs": []
    },
    {
      "cell_type": "markdown",
      "source": "**c)** Find the starting index of last occurrence of `is` or `the` or `was` or `to` for the given input strings.",
      "metadata": {
        "cell_id": "00092-192bb383-892a-448f-bd38-298392d72bf8",
        "deepnote_cell_type": "markdown"
      }
    },
    {
      "cell_type": "code",
      "metadata": {
        "cell_id": "00093-69c6f1e3-bd78-4265-ba7a-c31d7da143b1",
        "deepnote_to_be_reexecuted": true,
        "source_hash": "3d531d9a",
        "deepnote_cell_type": "code"
      },
      "source": "s1 = 'match after the last newline character'\ns2 = 'and then you want to test'\ns3 = 'this is good bye then'\ns4 = 'who was there to see?'\n\npat = re.compile()      ##### add your solution here\n\n##### add your solution here for s1\nassert ___ == 12\n##### add your solution here for s2\nassert ___ == 18\n##### add your solution here for s3\nassert ___ == 17\n##### add your solution here for s4\nassert ___ == 14",
      "execution_count": null,
      "outputs": []
    },
    {
      "cell_type": "markdown",
      "source": "**d)** The given input string contains `:` exactly once. Extract all characters after the `:` as output.",
      "metadata": {
        "cell_id": "00094-09bd9b7e-2d4b-442f-be9e-955e5c9a7cda",
        "deepnote_cell_type": "markdown"
      }
    },
    {
      "cell_type": "code",
      "metadata": {
        "cell_id": "00095-298618fd-8aa8-4b6c-9daf-081b60243c2b",
        "deepnote_to_be_reexecuted": true,
        "source_hash": "570f6b6e",
        "deepnote_cell_type": "code"
      },
      "source": "ip = 'fruits:apple, mango, guava, blueberry'\n\n##### add your solution here\nassert ___ == 'apple, mango, guava, blueberry'",
      "execution_count": null,
      "outputs": []
    },
    {
      "cell_type": "markdown",
      "source": "**e)** The given input strings contains some text followed by `-` followed by a number. Replace that number with its `log` value using `math.log()`.",
      "metadata": {
        "cell_id": "00096-fb19d554-359e-44e1-93ab-5d0995999938",
        "deepnote_cell_type": "markdown"
      }
    },
    {
      "cell_type": "code",
      "metadata": {
        "cell_id": "00097-dc32ed16-6074-47fb-b90a-30ee61b471b3",
        "deepnote_to_be_reexecuted": true,
        "source_hash": "df57767c",
        "deepnote_cell_type": "code"
      },
      "source": "s1 = 'first-3.14'\ns2 = 'next-123'\n\npat = re.compile()      ##### add your solution here\n\nimport math\nassert pat.sub() == 'first-1.144222799920162'\nassert pat.sub() == 'next-4.812184355372417'",
      "execution_count": null,
      "outputs": []
    },
    {
      "cell_type": "markdown",
      "source": "**f)** Replace all occurrences of `par` with `spar`, `spare` with `extra` and `park` with `garden` for the given input strings.",
      "metadata": {
        "cell_id": "00098-1ac9f71f-a434-4aa8-9ae2-60b09157a708",
        "deepnote_cell_type": "markdown"
      }
    },
    {
      "cell_type": "code",
      "metadata": {
        "cell_id": "00099-e1c3e2c8-4eab-42c9-bda0-38ef3dd9e3fa",
        "deepnote_to_be_reexecuted": true,
        "source_hash": "3ceb008c",
        "deepnote_cell_type": "code"
      },
      "source": "str1 = 'apartment has a park'\nstr2 = 'do you have a spare cable'\nstr3 = 'write a parser'\n\n##### add your solution here\n\nassert pat.sub() == 'aspartment has a garden'\nassert pat.sub() == 'do you have a extra cable'\nassert pat.sub() == 'write a sparser'",
      "execution_count": null,
      "outputs": []
    },
    {
      "cell_type": "markdown",
      "source": "**g)** Extract all words between `(` and `)` from the given input string as a list. Assume that the input will not contain any broken parentheses.",
      "metadata": {
        "cell_id": "00100-0a4c74c9-6d45-4d23-96b0-4d0abee6653c",
        "deepnote_cell_type": "markdown"
      }
    },
    {
      "cell_type": "code",
      "metadata": {
        "cell_id": "00101-8be63e3a-c70a-46ba-ae64-a5e84fb0aaad",
        "deepnote_to_be_reexecuted": true,
        "source_hash": "240bffd0",
        "deepnote_cell_type": "code"
      },
      "source": "ip = 'another (way) to reuse (portion) matched (by) capture groups'\n\nassert re.findall() == ['way', 'portion', 'by']",
      "execution_count": null,
      "outputs": []
    },
    {
      "cell_type": "markdown",
      "source": "**h)** Extract all occurrences of `<` up to next occurrence of `>`, provided there is at least one character in between `<` and `>`.",
      "metadata": {
        "cell_id": "00102-1e8ae758-2593-4287-b1a1-0986ea172a96",
        "deepnote_cell_type": "markdown"
      }
    },
    {
      "cell_type": "code",
      "metadata": {
        "cell_id": "00103-07291f5d-2bb8-412e-90a0-6e35184183ed",
        "deepnote_to_be_reexecuted": true,
        "source_hash": "f86b0049",
        "deepnote_cell_type": "code"
      },
      "source": "ip = 'a<apple> 1<> b<bye> 2<> c<cat>'\n\nassert re.findall() == ['<apple>', '<> b<bye>', '<> c<cat>']",
      "execution_count": null,
      "outputs": []
    },
    {
      "cell_type": "markdown",
      "source": "**i)** Use `re.findall` to get the output as shown below for the given input strings. Note the characters used in the input strings carefully.",
      "metadata": {
        "cell_id": "00104-45792ade-9687-44e9-bd50-64d8af8f7acf",
        "deepnote_cell_type": "markdown"
      }
    },
    {
      "cell_type": "code",
      "metadata": {
        "cell_id": "00105-8c07801d-b363-4ad3-bf65-9edf5da7f0ba",
        "deepnote_to_be_reexecuted": true,
        "source_hash": "daac1d2a",
        "deepnote_cell_type": "code"
      },
      "source": "row1 = '-2,5 4,+3 +42,-53 4356246,-357532354 '\nrow2 = '1.32,-3.14 634,5.63 63.3e3,9907809345343.235 '\n\npat = re.compile()       ##### add your solution here\n\nassert pat.findall(row1) == [('-2', '5'), ('4', '+3'), ('+42', '-53'), ('4356246', '-357532354')]\npat.findall(row2) == [('1.32', '-3.14'), ('634', '5.63'), ('63.3e3', '9907809345343.235')]",
      "execution_count": null,
      "outputs": []
    },
    {
      "cell_type": "markdown",
      "source": "**j)** This is an extension to previous question.\n\n* For `row1`, find the sum of integers of each tuple element. For example, sum of `-2` and `5` is `3`.\n* For `row2`, find the sum of floating-point numbers of each tuple element. For example, sum of `1.32` and `-3.14` is `-1.82`.",
      "metadata": {
        "cell_id": "00106-1a77db9b-ba2c-4679-be4f-99a61be294bc",
        "deepnote_cell_type": "markdown"
      }
    },
    {
      "cell_type": "code",
      "metadata": {
        "cell_id": "00107-3de7b484-2861-4689-ba2c-b2272928e192",
        "deepnote_to_be_reexecuted": true,
        "source_hash": "1f15564e",
        "deepnote_cell_type": "code"
      },
      "source": "row1 = '-2,5 4,+3 +42,-53 4356246,-357532354 '\nrow2 = '1.32,-3.14 634,5.63 63.3e3,9907809345343.235 '\n\n# should be same as previous question\npat = re.compile()       ##### add your solution here\n\n##### add your solution here for row1\nassert ___ == [3, 7, -11, -353176108]\n\n##### add your solution here for row2\nassert ___ == [-1.82, 639.63, 9907809408643.234]",
      "execution_count": null,
      "outputs": []
    },
    {
      "cell_type": "markdown",
      "source": "**k)** Use `re.split` to get the output as shown below.",
      "metadata": {
        "cell_id": "00108-887023c7-407d-4319-9e54-1d2c8949a6ba",
        "deepnote_cell_type": "markdown"
      }
    },
    {
      "cell_type": "code",
      "metadata": {
        "cell_id": "00109-a0cd121e-5d97-4ae2-b2fc-67971b3bbc73",
        "deepnote_to_be_reexecuted": true,
        "source_hash": "e5577aaf",
        "deepnote_cell_type": "code"
      },
      "source": "ip = '42:no-output;1000:car-truck;SQEX49801'\n\nassert re.split() == ['42', 'output', '1000', 'truck', 'SQEX49801']",
      "execution_count": null,
      "outputs": []
    },
    {
      "cell_type": "markdown",
      "source": "**l)** For the given list of strings, change the elements into a tuple of original element and number of times `t` occurs in that element.",
      "metadata": {
        "cell_id": "00110-6cd36548-8229-46b0-878b-0f3e322948a2",
        "deepnote_cell_type": "markdown"
      }
    },
    {
      "cell_type": "code",
      "metadata": {
        "cell_id": "00111-066690a6-40a8-4f73-bd5f-19deea3432ca",
        "deepnote_to_be_reexecuted": true,
        "source_hash": "8352c2dc",
        "deepnote_cell_type": "code"
      },
      "source": "words = ['sequoia', 'attest', 'tattletale', 'asset']\n\n##### add your solution here\nassert ___ == [('sequoia', 0), ('attest', 3), ('tattletale', 4), ('asset', 1)]",
      "execution_count": null,
      "outputs": []
    },
    {
      "cell_type": "markdown",
      "source": "**m)** The given input string has fields separated by `:`. Each field contains four uppercase alphabets followed optionally by two digits. Ignore the last field, which is empty. See [docs.python: Match.groups](https://docs.python.org/3/library/re.html#re.Match.groups) and use `re.finditer` to get the output as shown below. If the optional digits aren't present, show `'NA'` instead of `None`.",
      "metadata": {
        "cell_id": "00112-e649bd20-7a8e-4cfc-bdfe-327396031eee",
        "deepnote_cell_type": "markdown"
      }
    },
    {
      "cell_type": "code",
      "metadata": {
        "cell_id": "00113-43358871-7d4b-4fea-89f2-10fcd3c6ff98",
        "deepnote_to_be_reexecuted": true,
        "source_hash": "67862516",
        "deepnote_cell_type": "code"
      },
      "source": "ip = 'TWXA42:JWPA:NTED01:'\n\n##### add your solution here\nassert ___ == [('TWXA', '42'), ('JWPA', 'NA'), ('NTED', '01')]",
      "execution_count": null,
      "outputs": []
    },
    {
      "cell_type": "markdown",
      "source": ">![info](../images/info.svg) Note that this is different from `re.findall` which will just give empty string instead of `None` when a capture group doesn't participate.\n\n**n)** Convert the comma separated strings to corresponding `dict` objects as shown below.",
      "metadata": {
        "cell_id": "00114-08196523-11ae-40fc-a637-96e8fef79bc8",
        "deepnote_cell_type": "markdown"
      }
    },
    {
      "cell_type": "code",
      "metadata": {
        "cell_id": "00115-05b8e887-a418-48b2-8291-a8f7b5c698ef",
        "deepnote_to_be_reexecuted": true,
        "source_hash": "a9a26db4",
        "deepnote_cell_type": "code"
      },
      "source": "row1 = 'name:rohan,maths:75,phy:89,'\nrow2 = 'name:rose,maths:88,phy:92,'\n\npat = re.compile()      ##### add your solution here\n\n##### add your solution here for row1\nassert ___ == {'name': 'rohan', 'maths': '75', 'phy': '89'}\n##### add your solution here for row2\nassert ___ == {'name': 'rose', 'maths': '88', 'phy': '92'}",
      "execution_count": null,
      "outputs": []
    },
    {
      "cell_type": "markdown",
      "source": "<br>\n\n# 7. Character class\n\n**a)** For the list `items`, filter all elements starting with `hand` and ending with `s` or `y` or `le`.",
      "metadata": {
        "cell_id": "00116-689db66f-5964-48a3-b35e-6aad468e2fac",
        "deepnote_cell_type": "markdown"
      }
    },
    {
      "cell_type": "code",
      "metadata": {
        "cell_id": "00117-f46c3101-2a37-4dbd-9623-e2af5684e2c6",
        "deepnote_to_be_reexecuted": true,
        "source_hash": "5867d689",
        "deepnote_cell_type": "code"
      },
      "source": "items = ['-handy', 'hand', 'handy', 'unhand', 'hands', 'handle']\n\n##### add your solution here\nassert ___ == ['handy', 'hands', 'handle']",
      "execution_count": null,
      "outputs": []
    },
    {
      "cell_type": "markdown",
      "source": "**b)** Replace all whole words `reed` or `read` or `red` with `X`.",
      "metadata": {
        "cell_id": "00118-a11ba1a5-0580-4658-97e3-350ccebef832",
        "deepnote_cell_type": "markdown"
      }
    },
    {
      "cell_type": "code",
      "metadata": {
        "cell_id": "00119-d80041a6-2625-40eb-af75-74a42232c5f2",
        "deepnote_to_be_reexecuted": true,
        "source_hash": "5e11b5be",
        "deepnote_cell_type": "code"
      },
      "source": "ip = 'redo red credible :read: rod reed'\n\n##### add your solution here\nassert ___ == 'redo X credible :X: rod X'",
      "execution_count": null,
      "outputs": []
    },
    {
      "cell_type": "markdown",
      "source": "**c)** For the list `words`, filter all elements containing `e` or `i` followed by `l` or `n`. Note that the order mentioned should be followed.",
      "metadata": {
        "cell_id": "00120-39dc430d-e512-4f6a-b23a-a04f41096177",
        "deepnote_cell_type": "markdown"
      }
    },
    {
      "cell_type": "code",
      "metadata": {
        "cell_id": "00121-4b814fa0-9b91-4a5b-b1cd-1b4d11323159",
        "deepnote_to_be_reexecuted": true,
        "source_hash": "2ce74e8",
        "deepnote_cell_type": "code"
      },
      "source": "words = ['surrender', 'unicorn', 'newer', 'door', 'empty', 'eel', 'pest']\n\n##### add your solution here\nassert ___ == ['surrender', 'unicorn', 'eel']",
      "execution_count": null,
      "outputs": []
    },
    {
      "cell_type": "markdown",
      "source": "**d)** For the list `words`, filter all elements containing `e` or `i` and `l` or `n` in any order.",
      "metadata": {
        "cell_id": "00122-42a918eb-39a0-4e69-89e5-9768228498ce",
        "deepnote_cell_type": "markdown"
      }
    },
    {
      "cell_type": "code",
      "metadata": {
        "cell_id": "00123-b521cf5a-400d-4a2f-8c10-dbfa5ab35ddc",
        "deepnote_to_be_reexecuted": true,
        "source_hash": "79d13b7d",
        "deepnote_cell_type": "code"
      },
      "source": "words = ['surrender', 'unicorn', 'newer', 'door', 'empty', 'eel', 'pest']\n\n##### add your solution here\nassert ___ == ['surrender', 'unicorn', 'newer', 'eel']",
      "execution_count": null,
      "outputs": []
    },
    {
      "cell_type": "markdown",
      "source": "**e)** Extract all hex character sequences, with `0x` optional prefix. Match the characters case insensitively, and the sequences shouldn't be surrounded by other word characters.",
      "metadata": {
        "cell_id": "00124-4f6ab250-2661-4bf9-8fb4-ab075ce7733e",
        "deepnote_cell_type": "markdown"
      }
    },
    {
      "cell_type": "code",
      "metadata": {
        "cell_id": "00125-39267a08-c486-48e8-966c-dc89836cb5a2",
        "deepnote_to_be_reexecuted": true,
        "source_hash": "c0afc5d",
        "deepnote_cell_type": "code"
      },
      "source": "str1 = '128A foo 0xfe32 34 0xbar'\nstr2 = '0XDEADBEEF place 0x0ff1ce bad'\n\nhex_seq = re.compile()        ##### add your solution here\n\n##### add your solution here for str1\nassert ___ == ['128A', '0xfe32', '34']\n\n##### add your solution here for str2\nassert ___ == ['0XDEADBEEF', '0x0ff1ce', 'bad']",
      "execution_count": null,
      "outputs": []
    },
    {
      "cell_type": "markdown",
      "source": "**f)** Delete from `(` to the next occurrence of `)` unless they contain parentheses characters in between.",
      "metadata": {
        "cell_id": "00126-37918e1c-b518-4c22-832f-e2d174239f26",
        "deepnote_cell_type": "markdown"
      }
    },
    {
      "cell_type": "code",
      "metadata": {
        "cell_id": "00127-44c0431e-d5fa-4fcc-b8ce-a0d1a0a9e801",
        "deepnote_to_be_reexecuted": true,
        "source_hash": "f2499576",
        "deepnote_cell_type": "code"
      },
      "source": "str1 = 'def factorial()'\nstr2 = 'a/b(division) + c%d(#modulo) - (e+(j/k-3)*4)'\nstr3 = 'Hi there(greeting). Nice day(a(b)'\n\nremove_parentheses = re.compile()      ##### add your solution here\n\nassert ___ == remove_parentheses.sub('', str1)\n'def factorial'\nassert ___ == remove_parentheses.sub('', str2)\n'a/b + c%d - (e+*4)'\nassert ___ == remove_parentheses.sub('', str3)\n'Hi there. Nice day(a'",
      "execution_count": null,
      "outputs": []
    },
    {
      "cell_type": "markdown",
      "source": "**g)** For the list `words`, filter all elements not starting with `e` or `p` or `u`.",
      "metadata": {
        "cell_id": "00128-67fac83d-6540-4f76-969f-eb2f6454d8c4",
        "deepnote_cell_type": "markdown"
      }
    },
    {
      "cell_type": "code",
      "metadata": {
        "cell_id": "00129-adda813c-7f8d-4831-8292-c670f84791b6",
        "deepnote_to_be_reexecuted": true,
        "source_hash": "e42df8b4",
        "deepnote_cell_type": "code"
      },
      "source": "words = ['surrender', 'unicorn', 'newer', 'door', 'empty', 'eel', 'pest']\n\n##### add your solution here\nassert ___ == ['surrender', 'newer', 'door']",
      "execution_count": null,
      "outputs": []
    },
    {
      "cell_type": "markdown",
      "source": "**h)** For the list `words`, filter all elements not containing `u` or `w` or `ee` or `-`.",
      "metadata": {
        "cell_id": "00130-02417715-65c4-4224-849e-53663c969714",
        "deepnote_cell_type": "markdown"
      }
    },
    {
      "cell_type": "code",
      "metadata": {
        "cell_id": "00131-2428f6aa-bc76-444c-8072-e4b6df481d3a",
        "deepnote_to_be_reexecuted": true,
        "source_hash": "76d3575e",
        "deepnote_cell_type": "code"
      },
      "source": "words = ['p-t', 'you', 'tea', 'heel', 'owe', 'new', 'reed', 'ear']\n\n##### add your solution here\nassert ___ == ['tea', 'ear']",
      "execution_count": null,
      "outputs": []
    },
    {
      "cell_type": "markdown",
      "source": "**i)** The given input strings contain fields separated by `,` and fields can be empty too. Replace last three fields with `WHTSZ323`.",
      "metadata": {
        "cell_id": "00132-66a2b11c-30e1-471c-937a-09bb4163179b",
        "deepnote_cell_type": "markdown"
      }
    },
    {
      "cell_type": "code",
      "metadata": {
        "cell_id": "00133-82992554-bc4a-41cd-abea-c16ef026f525",
        "deepnote_to_be_reexecuted": true,
        "source_hash": "32280ba5",
        "deepnote_cell_type": "code"
      },
      "source": "row1 = '(2),kite,12,,D,C,,'\nrow2 = 'hi,bye,sun,moon'\n\npat = re.compile()      ##### add your solution here\n\nassert pat.sub() == '(2),kite,12,,D,WHTSZ323'\nassert pat.sub() == 'hi,WHTSZ323'",
      "execution_count": null,
      "outputs": []
    },
    {
      "cell_type": "markdown",
      "source": "**j)** Split the given strings based on consecutive sequence of digit or whitespace characters.",
      "metadata": {
        "cell_id": "00134-4b1f5c75-ea70-4c90-9ebb-0ba7629b7740",
        "deepnote_cell_type": "markdown"
      }
    },
    {
      "cell_type": "code",
      "metadata": {
        "cell_id": "00135-c048b2a8-0d92-4faa-9ed1-b2aeda7cc7cc",
        "deepnote_to_be_reexecuted": true,
        "source_hash": "73da5a7a",
        "deepnote_cell_type": "code"
      },
      "source": "str1 = 'lion \\t Ink32onion Nice'\nstr2 = '**1\\f2\\n3star\\t7 77\\r**'\n\npat = re.compile()       ##### add your solution here\n\nassert pat.split(str1) == ['lion', 'Ink', 'onion', 'Nice']\nassert pat.split(str2) == ['**', 'star', '**']",
      "execution_count": null,
      "outputs": []
    },
    {
      "cell_type": "markdown",
      "source": "**k)** Delete all occurrences of the sequence `<characters>` where `characters` is one or more non `>` characters and cannot be empty.",
      "metadata": {
        "cell_id": "00136-829b171a-750f-4ff9-aa24-dd54821f2374",
        "deepnote_cell_type": "markdown"
      }
    },
    {
      "cell_type": "code",
      "metadata": {
        "cell_id": "00137-6332d244-3222-4bb6-be0a-e7894d8ba860",
        "deepnote_to_be_reexecuted": true,
        "source_hash": "ece49be7",
        "deepnote_cell_type": "code"
      },
      "source": "ip = 'a<apple> 1<> b<bye> 2<> c<cat>'\n\n##### add your solution here\nassert ___ == 'a 1<> b 2<> c'",
      "execution_count": null,
      "outputs": []
    },
    {
      "cell_type": "markdown",
      "source": "**l)** `\\b[a-z](on|no)[a-z]\\b` is same as `\\b[a-z][on]{2}[a-z]\\b`. True or False? Sample input lines shown below might help to understand the differences, if any.",
      "metadata": {
        "cell_id": "00138-f9447548-15de-482c-ba01-1965a36fac60",
        "deepnote_cell_type": "markdown"
      }
    },
    {
      "cell_type": "code",
      "metadata": {
        "cell_id": "00139-0c48cc24-cf79-44ed-8e87-f41d7bb9f4f9",
        "deepnote_to_be_reexecuted": true,
        "source_hash": "3e5073a",
        "deepnote_cell_type": "code"
      },
      "source": "print('known\\nmood\\nknow\\npony\\ninns')\nknown\nmood\nknow\npony\ninns",
      "execution_count": null,
      "outputs": []
    },
    {
      "cell_type": "markdown",
      "source": "**m)** For the given list, filter all elements containing any number sequence greater than `624`.",
      "metadata": {
        "cell_id": "00140-58a16afb-b9c8-433d-9f97-6af9bc71d414",
        "deepnote_cell_type": "markdown"
      }
    },
    {
      "cell_type": "code",
      "metadata": {
        "cell_id": "00141-cf9716f0-7c23-43bd-b1bc-fab1fd2265d0",
        "deepnote_to_be_reexecuted": true,
        "source_hash": "cb4f4a51",
        "deepnote_cell_type": "code"
      },
      "source": "items = ['hi0000432abcd', 'car00625', '42_624 0512', '3.14 96 2 foo1234baz']\n\n##### add your solution here\nassert ___ == ['car00625', '3.14 96 2 foo1234baz']",
      "execution_count": null,
      "outputs": []
    },
    {
      "cell_type": "markdown",
      "source": "**n)** Count the maximum depth of nested braces for the given strings. Unbalanced or wrongly ordered braces should return `-1`. Note that this will require a mix of regular expressions and Python code.",
      "metadata": {
        "cell_id": "00142-0c20e38c-9cd2-4af8-9320-f67c540def4c",
        "deepnote_cell_type": "markdown"
      }
    },
    {
      "cell_type": "code",
      "metadata": {
        "cell_id": "00143-362cf641-e901-4980-8387-2e26e65e678c",
        "deepnote_to_be_reexecuted": true,
        "source_hash": "c5ecbe9e",
        "deepnote_cell_type": "code"
      },
      "source": "def max_nested_braces(ip):\n##### add your solution here\n\nassert max_nested_braces('a*b') == 0\nassert max_nested_braces('}a+b{') == -1\nassert max_nested_braces('a*b+{}') == 1\nassert max_nested_braces('{{a+2}*{b+c}+e}') == 2\nassert max_nested_braces('{{a+2}*{b+{c*d}}+e}') == 3\nassert max_nested_braces('{{a+2}*{\\n{b+{c*d}}+e*d}}') == 4\nassert max_nested_braces('a*{b+c*{e*3.14}}}') == -1",
      "execution_count": null,
      "outputs": []
    },
    {
      "cell_type": "markdown",
      "source": "**o)** By default, `str.split` method will split on whitespace and remove empty strings from the result. Which `re` module function would you use to replicate this functionality?",
      "metadata": {
        "cell_id": "00144-efd738ed-5266-4353-b2e4-c72659197f5e",
        "deepnote_cell_type": "markdown"
      }
    },
    {
      "cell_type": "code",
      "metadata": {
        "cell_id": "00145-da9a3d20-6ad8-4fce-8699-e9a0ccb5f57f",
        "deepnote_to_be_reexecuted": true,
        "source_hash": "d0633ed0",
        "deepnote_cell_type": "code"
      },
      "source": "ip = ' \\t\\r  so  pole\\t\\t\\t\\n\\nlit in to \\r\\n\\v\\f  '\n\nassert ip.split() == ['so', 'pole', 'lit', 'in', 'to']\n##### add your solution here\nassert ___ == ['so', 'pole', 'lit', 'in', 'to']",
      "execution_count": null,
      "outputs": []
    },
    {
      "cell_type": "markdown",
      "source": "**p)** Convert the given input string to two different lists as shown below.",
      "metadata": {
        "cell_id": "00146-0702edfd-6829-4683-9ea3-27991d5dca33",
        "deepnote_cell_type": "markdown"
      }
    },
    {
      "cell_type": "code",
      "metadata": {
        "cell_id": "00147-f9f264e7-730b-4af7-bddd-00003c63433c",
        "deepnote_to_be_reexecuted": true,
        "source_hash": "2d43143",
        "deepnote_cell_type": "code"
      },
      "source": "ip = 'price_42 roast^\\t\\n^-ice==cat\\neast'\n\n##### add your solution here\nassert ___ == ['price_42', 'roast', 'ice', 'cat', 'east']\n\n##### add your solution here\nassert ___ == ['price_42', ' ', 'roast', '^\\t\\n^-', 'ice', '==', 'cat', '\\n', 'east']",
      "execution_count": null,
      "outputs": []
    },
    {
      "cell_type": "markdown",
      "source": "**q)** Filter all elements whose first non-whitespace character is not a `#` character. Any element made up of only whitespace characters should be ignored as well.",
      "metadata": {
        "cell_id": "00148-ae7d2210-20b2-42ea-b8cd-e585c7c78788",
        "deepnote_cell_type": "markdown"
      }
    },
    {
      "cell_type": "code",
      "metadata": {
        "cell_id": "00149-c10d4383-16c2-4dc0-885a-b9389e3b43a6",
        "deepnote_to_be_reexecuted": true,
        "source_hash": "f29dc9c8",
        "deepnote_cell_type": "code"
      },
      "source": "items = ['    #comment', '\\t\\napple #42', '#oops', 'sure', 'no#1', '\\t\\r\\f']\n\n##### add your solution here\nassert ___ == ['\\t\\napple #42', 'sure', 'no#1']",
      "execution_count": null,
      "outputs": []
    },
    {
      "cell_type": "markdown",
      "source": "<br>\n\n# 8. Groupings and backreferences\n\n**a)** Replace the space character that occurs after a word ending with `a` or `r` with a newline character.",
      "metadata": {
        "cell_id": "00150-f247ee69-4ffa-47a9-95b7-70961f3a21ef",
        "deepnote_cell_type": "markdown"
      }
    },
    {
      "cell_type": "code",
      "metadata": {
        "cell_id": "00151-2fd8ae0c-c433-4762-9c13-e50d148163c3",
        "deepnote_to_be_reexecuted": true,
        "source_hash": "745b7f3",
        "deepnote_cell_type": "code"
      },
      "source": "ip = 'area not a _a2_ roar took 22'\n\nassert re.sub() == \"\"\"area\nnot a\n_a2_ roar\ntook 22\"\"\"",
      "execution_count": null,
      "outputs": []
    },
    {
      "cell_type": "markdown",
      "source": "**b)** Add `[]` around words starting with `s` and containing `e` and `t` in any order.",
      "metadata": {
        "cell_id": "00152-141fa4d9-698e-422c-bd45-6bfaccc3fecd",
        "deepnote_cell_type": "markdown"
      }
    },
    {
      "cell_type": "code",
      "metadata": {
        "cell_id": "00153-38953656-36ed-4756-81de-7aed4a17f1b3",
        "deepnote_to_be_reexecuted": true,
        "source_hash": "7fba8ec6",
        "deepnote_cell_type": "code"
      },
      "source": "ip = 'sequoia subtle exhibit asset sets tests site'\n\n##### add your solution here\nassert ___ == 'sequoia [subtle] exhibit asset [sets] tests [site]'",
      "execution_count": null,
      "outputs": []
    },
    {
      "cell_type": "markdown",
      "source": "**c)** Replace all whole words with `X` that start and end with the same word character. Single character word should get replaced with `X` too, as it satisfies the stated condition.",
      "metadata": {
        "cell_id": "00154-0aae9365-7e27-4e2c-bf61-e779dd7bb83b",
        "deepnote_cell_type": "markdown"
      }
    },
    {
      "cell_type": "code",
      "metadata": {
        "cell_id": "00155-2d79b3b6-7ebc-4b05-87bb-02e38b06ae3c",
        "deepnote_to_be_reexecuted": true,
        "source_hash": "56d3250d",
        "deepnote_cell_type": "code"
      },
      "source": "ip = 'oreo not a _a2_ roar took 22'\n\n##### add your solution here\nassert ___ == 'X not X X X took X'",
      "execution_count": null,
      "outputs": []
    },
    {
      "cell_type": "markdown",
      "source": "**d)** Convert the given **markdown** headers to corresponding **anchor** tag. Consider the input to start with one or more `#` characters followed by space and word characters. The `name` attribute is constructed by converting the header to lowercase and replacing spaces with hyphens. Can you do it without using a capture group?",
      "metadata": {
        "cell_id": "00156-02d43cea-bdca-4c10-800d-abe63d13e759",
        "deepnote_cell_type": "markdown"
      }
    },
    {
      "cell_type": "code",
      "metadata": {
        "cell_id": "00157-57a1cd6b-2a60-45b5-b01a-63517c47d23b",
        "deepnote_to_be_reexecuted": true,
        "source_hash": "8d2cf11f",
        "deepnote_cell_type": "code"
      },
      "source": "header1 = '# Regular Expressions'\nheader2 = '## Compiling regular expressions'\n\n##### add your solution here for header1\nassert ___ == '# <a name=\"regular-expressions\"></a>Regular Expressions'\n##### add your solution here for header2\nassert ___ == '## <a name=\"compiling-regular-expressions\"></a>Compiling regular expressions'",
      "execution_count": null,
      "outputs": []
    },
    {
      "cell_type": "markdown",
      "source": "**e)** Convert the given **markdown** anchors to corresponding **hyperlinks**.",
      "metadata": {
        "cell_id": "00158-3807556a-6db9-44e6-839a-cc02c4b8b6a4",
        "deepnote_cell_type": "markdown"
      }
    },
    {
      "cell_type": "code",
      "metadata": {
        "cell_id": "00159-459d4ef1-55b6-4ac7-9118-bb9064654e01",
        "deepnote_to_be_reexecuted": true,
        "source_hash": "62d56e31",
        "deepnote_cell_type": "code"
      },
      "source": "anchor1 = '# <a name=\"regular-expressions\"></a>Regular Expressions'\nanchor2 = '## <a name=\"subexpression-calls\"></a>Subexpression calls'\n\n##### add your solution here for anchor1\nassert ___ == '[Regular Expressions](#regular-expressions)'\n##### add your solution here for anchor2\nassert ___ == '[Subexpression calls](#subexpression-calls)'",
      "execution_count": null,
      "outputs": []
    },
    {
      "cell_type": "markdown",
      "source": "**f)** Count the number of whole words that have at least two occurrences of consecutive repeated alphabets. For example, words like `stillness` and `Committee` should be counted but not words like `root` or `readable` or `rotational`.",
      "metadata": {
        "cell_id": "00160-96a5688c-3cea-4d69-abde-627dc4b39141",
        "deepnote_cell_type": "markdown"
      }
    },
    {
      "cell_type": "code",
      "metadata": {
        "cell_id": "00161-5847bfb2-a368-4d7b-9f16-a6113d3ebd8e",
        "deepnote_to_be_reexecuted": true,
        "source_hash": "c6e0c99e",
        "deepnote_cell_type": "code"
      },
      "source": "ip = '''oppressed abandon accommodation bloodless\ncarelessness committed apparition innkeeper\noccasionally afforded embarrassment foolishness\ndepended successfully succeeded\npossession cleanliness suppress'''\n\n##### add your solution here\nassert ___ == 13",
      "execution_count": null,
      "outputs": []
    },
    {
      "cell_type": "markdown",
      "source": "**g)** For the given input string, replace all occurrences of digit sequences with only the unique non-repeating sequence. For example, `232323` should be changed to `23` and `897897` should be changed to `897`. If there no repeats (for example `1234`) or if the repeats end prematurely (for example `12121`), it should not be changed.",
      "metadata": {
        "cell_id": "00162-ca47ab38-fe21-482f-a884-7954214ae5bd",
        "deepnote_cell_type": "markdown"
      }
    },
    {
      "cell_type": "code",
      "metadata": {
        "cell_id": "00163-0d982648-f05c-4fff-bf53-ea92e2b9c862",
        "deepnote_to_be_reexecuted": true,
        "source_hash": "73171df3",
        "deepnote_cell_type": "code"
      },
      "source": "ip = '1234 2323 453545354535 9339 11 60260260'\n\n##### add your solution here\nassert ___ == '1234 23 4535 9339 1 60260260'",
      "execution_count": null,
      "outputs": []
    },
    {
      "cell_type": "markdown",
      "source": "**h)** Replace sequences made up of words separated by `:` or `.` by the first word of the sequence. Such sequences will end when `:` or `.` is not followed by a word character.",
      "metadata": {
        "cell_id": "00164-5953cf97-6c25-4d87-9a62-7b870d7f4ac3",
        "deepnote_cell_type": "markdown"
      }
    },
    {
      "cell_type": "code",
      "metadata": {
        "cell_id": "00165-b6a0be9e-8ae8-4cd7-8933-345405d623b7",
        "deepnote_to_be_reexecuted": true,
        "source_hash": "694ddb24",
        "deepnote_cell_type": "code"
      },
      "source": "ip = 'wow:Good:2_two:five: hi-2 bye kite.777.water.'\n\n##### add your solution here\nassert ___ == 'wow hi-2 bye kite'",
      "execution_count": null,
      "outputs": []
    },
    {
      "cell_type": "markdown",
      "source": "**i)** Replace sequences made up of words separated by `:` or `.` by the last word of the sequence. Such sequences will end when `:` or `.` is not followed by a word character.",
      "metadata": {
        "cell_id": "00166-63e733ba-3b53-47c0-ba11-c1d8f3f65d5d",
        "deepnote_cell_type": "markdown"
      }
    },
    {
      "cell_type": "code",
      "metadata": {
        "cell_id": "00167-345e834a-5fac-4d98-b08a-e8f33f21adeb",
        "deepnote_to_be_reexecuted": true,
        "source_hash": "87dff62a",
        "deepnote_cell_type": "code"
      },
      "source": "ip = 'wow:Good:2_two:five: hi-2 bye kite.777.water.'\n\n##### add your solution here\nassert ___ == 'five hi-2 bye water'",
      "execution_count": null,
      "outputs": []
    },
    {
      "cell_type": "markdown",
      "source": "**j)** Split the given input string on one or more repeated sequence of `cat`.",
      "metadata": {
        "cell_id": "00168-dd1ba849-5ba8-4041-9294-bfb943a1266e",
        "deepnote_cell_type": "markdown"
      }
    },
    {
      "cell_type": "code",
      "metadata": {
        "cell_id": "00169-9d746be1-8bdb-4c99-b436-8f52e0bf5c0a",
        "deepnote_to_be_reexecuted": true,
        "source_hash": "50908892",
        "deepnote_cell_type": "code"
      },
      "source": "ip = 'firecatlioncatcatcatbearcatcatparrot'\n\n##### add your solution here\nassert ___ == ['fire', 'lion', 'bear', 'parrot']",
      "execution_count": null,
      "outputs": []
    },
    {
      "cell_type": "markdown",
      "source": "**k)** For the given input string, find all occurrences of digit sequences with at least one repeating sequence. For example, `232323` and `897897`. If the repeats end prematurely, for example `12121`, it should not be matched.",
      "metadata": {
        "cell_id": "00170-2833dc8b-2803-4221-ba20-7dcd3826f268",
        "deepnote_cell_type": "markdown"
      }
    },
    {
      "cell_type": "code",
      "metadata": {
        "cell_id": "00171-8e2da30f-9cf1-43a6-acf8-ebb6275a8ec5",
        "deepnote_to_be_reexecuted": true,
        "source_hash": "df1a4e70",
        "deepnote_cell_type": "code"
      },
      "source": "ip = '1234 2323 453545354535 9339 11 60260260'\n\npat = re.compile()      ##### add your solution here\n\n# entire sequences in the output\n##### add your solution here\nassert ___ == ['2323', '453545354535', '11']\n\n# only the unique sequence in the output\n##### add your solution here\nassert ___ == ['23', '4535', '1']",
      "execution_count": null,
      "outputs": []
    },
    {
      "cell_type": "markdown",
      "source": "**l)** Convert the comma separated strings to corresponding `dict` objects as shown below. The keys are `name`, `maths` and `phy` for the three fields in the input strings.",
      "metadata": {
        "cell_id": "00172-d75a3118-dd52-42df-8813-093105741b3e",
        "deepnote_cell_type": "markdown"
      }
    },
    {
      "cell_type": "code",
      "metadata": {
        "cell_id": "00173-44931a8d-d5db-468e-b340-c3e3a6d2368a",
        "deepnote_to_be_reexecuted": true,
        "source_hash": "301bfe70",
        "deepnote_cell_type": "code"
      },
      "source": "row1 = 'rohan,75,89'\nrow2 = 'rose,88,92'\n\npat = re.compile()      ##### add your solution here\n\n##### add your solution here for row1\nassert ___ == {'name': 'rohan', 'maths': '75', 'phy': '89'}\n##### add your solution here for row2\nassert ___ == {'name': 'rose', 'maths': '88', 'phy': '92'}",
      "execution_count": null,
      "outputs": []
    },
    {
      "cell_type": "markdown",
      "source": "**m)** Surround all whole words with `()`. Additionally, if the whole word is `imp` or `ant`, delete them. Can you do it with single substitution?",
      "metadata": {
        "cell_id": "00174-04bdaad1-4d4c-4cf0-81f8-00569430a789",
        "deepnote_cell_type": "markdown"
      }
    },
    {
      "cell_type": "code",
      "metadata": {
        "cell_id": "00175-194547af-8b91-4875-a48f-5034e2013f53",
        "deepnote_to_be_reexecuted": true,
        "source_hash": "11fb9702",
        "deepnote_cell_type": "code"
      },
      "source": "ip = 'tiger imp goat eagle ant important'\n\n##### add your solution here\nassert ___ == '(tiger) () (goat) (eagle) () (important)'",
      "execution_count": null,
      "outputs": []
    },
    {
      "cell_type": "markdown",
      "source": "**n)** Filter all elements that contains a sequence of lowercase alphabets followed by `-` followed by digits. They can be optionally surrounded by `{{` and `}}`. Any partial match shouldn't be part of the output.",
      "metadata": {
        "cell_id": "00176-83c7ff2c-7d87-46c1-aa85-836b15fcc1ea",
        "deepnote_cell_type": "markdown"
      }
    },
    {
      "cell_type": "code",
      "metadata": {
        "cell_id": "00177-e664339c-5f3f-483a-9311-8f0fd8b7ab03",
        "deepnote_to_be_reexecuted": true,
        "source_hash": "54d7641",
        "deepnote_cell_type": "code"
      },
      "source": "ip = ['{{apple-150}}', '{{mango2-100}}', '{{cherry-200', 'grape-87']\n\n##### add your solution here\nassert ___ == ['{{apple-150}}', 'grape-87']",
      "execution_count": null,
      "outputs": []
    },
    {
      "cell_type": "markdown",
      "source": "**o)** The given input string has sequences made up of words separated by `:` or `.` and such sequences will end when `:` or `.` is not followed by a word character. For all such sequences, display only the last word followed by `-` followed by first word.",
      "metadata": {
        "cell_id": "00178-24a904ec-05da-4ae9-a5f4-94f7c0b7199d",
        "deepnote_cell_type": "markdown"
      }
    },
    {
      "cell_type": "code",
      "metadata": {
        "cell_id": "00179-3992342f-62f7-4267-a1a9-9dd9bf2b1470",
        "deepnote_to_be_reexecuted": true,
        "source_hash": "ca414a15",
        "deepnote_cell_type": "code"
      },
      "source": "ip = 'wow:Good:2_two:five: hi-2 bye kite.777.water.'\n\n##### add your solution here\nassert ___ == ['five-wow', 'water-kite']",
      "execution_count": null,
      "outputs": []
    },
    {
      "cell_type": "markdown",
      "source": "<br>\n\n# 9. Lookarounds\n\nStarting from here, all following problems are optional!\n\nPlease use lookarounds for solving the following exercises even if you can do it without lookarounds. Unless you cannot use lookarounds for cases like variable length lookbehinds.\n\n**a)** Replace all whole words with `X` unless it is preceded by `(` character.",
      "metadata": {
        "cell_id": "00180-653657ff-5521-4eb8-bfed-0cd33182da11",
        "deepnote_cell_type": "markdown"
      }
    },
    {
      "cell_type": "code",
      "metadata": {
        "cell_id": "00181-4adbe35f-c16b-4710-b032-fef52fe653d1",
        "deepnote_to_be_reexecuted": true,
        "source_hash": "c2327bbb",
        "deepnote_cell_type": "code"
      },
      "source": "ip = '(apple) guava berry) apple (mango) (grape'\n\n##### add your solution here\nassert ___ == '(apple) X X) X (mango) (grape'",
      "execution_count": null,
      "outputs": []
    },
    {
      "cell_type": "markdown",
      "source": "**b)** Replace all whole words with `X` unless it is followed by `)` character.",
      "metadata": {
        "cell_id": "00182-7b05b997-50cc-45f0-a0d3-57a9cd79abbb",
        "deepnote_cell_type": "markdown"
      }
    },
    {
      "cell_type": "code",
      "metadata": {
        "cell_id": "00183-37a021ad-ffa0-4233-8960-539fc328db38",
        "deepnote_to_be_reexecuted": true,
        "source_hash": "fda8c016",
        "deepnote_cell_type": "code"
      },
      "source": "ip = '(apple) guava berry) apple (mango) (grape'\n\n##### add your solution here\nassert ___ == '(apple) X berry) X (mango) (X'",
      "execution_count": null,
      "outputs": []
    },
    {
      "cell_type": "markdown",
      "source": "**c)** Replace all whole words with `X` unless it is preceded by `(` or followed by `)` characters.",
      "metadata": {
        "cell_id": "00184-58669a9a-887a-44be-b399-4484f988f16e",
        "deepnote_cell_type": "markdown"
      }
    },
    {
      "cell_type": "code",
      "metadata": {
        "cell_id": "00185-7c63c863-1270-4dc5-b154-3df33400f5b4",
        "deepnote_to_be_reexecuted": true,
        "source_hash": "19060c66",
        "deepnote_cell_type": "code"
      },
      "source": "ip = '(apple) guava berry) apple (mango) (grape'\n\n##### add your solution here\nassert ___ == '(apple) X berry) X (mango) (grape'",
      "execution_count": null,
      "outputs": []
    },
    {
      "cell_type": "markdown",
      "source": "**d)** Extract all whole words that do not end with `e` or `n`.",
      "metadata": {
        "cell_id": "00186-f68dc142-cebb-455d-80a6-ba10ab47aa3a",
        "deepnote_cell_type": "markdown"
      }
    },
    {
      "cell_type": "code",
      "metadata": {
        "cell_id": "00187-4a9d59e2-6cea-4bbc-9345-2cbb14697f04",
        "deepnote_to_be_reexecuted": true,
        "source_hash": "78f6a7ad",
        "deepnote_cell_type": "code"
      },
      "source": "ip = 'at row on urn e note dust n'\n\n##### add your solution here\nassert ___ == ['at', 'row', 'dust']",
      "execution_count": null,
      "outputs": []
    },
    {
      "cell_type": "markdown",
      "source": "**e)** Extract all whole words that do not start with `a` or `d` or `n`.",
      "metadata": {
        "cell_id": "00188-f1f6a118-8a15-4c1b-b4ad-8b165705e6a6",
        "deepnote_cell_type": "markdown"
      }
    },
    {
      "cell_type": "code",
      "metadata": {
        "cell_id": "00189-70099a42-78ed-4481-b340-bb59f4ac65a8",
        "deepnote_to_be_reexecuted": true,
        "source_hash": "5c0be28f",
        "deepnote_cell_type": "code"
      },
      "source": "ip = 'at row on urn e note dust n'\n\n##### add your solution here\nassert ___ == ['row', 'on', 'urn', 'e']",
      "execution_count": null,
      "outputs": []
    },
    {
      "cell_type": "markdown",
      "source": "**f)** Extract all whole words only if they are followed by `:` or `,` or `-`.",
      "metadata": {
        "cell_id": "00190-0537efd5-5ef2-411b-832c-7dec8515c042",
        "deepnote_cell_type": "markdown"
      }
    },
    {
      "cell_type": "code",
      "metadata": {
        "cell_id": "00191-12ffd82a-cd1d-4b22-bd08-94b0542e74d8",
        "deepnote_to_be_reexecuted": true,
        "source_hash": "6ea8d749",
        "deepnote_cell_type": "code"
      },
      "source": "ip = 'poke,on=-=so:ink.to/is(vast)ever-sit'\n\n##### add your solution here\nassert ___ == ['poke', 'so', 'ever']",
      "execution_count": null,
      "outputs": []
    },
    {
      "cell_type": "markdown",
      "source": "**g)** Extract all whole words only if they are preceded by `=` or `/` or `-`.",
      "metadata": {
        "cell_id": "00192-bc4b85c4-2953-4780-b3df-f337bf151006",
        "deepnote_cell_type": "markdown"
      }
    },
    {
      "cell_type": "code",
      "metadata": {
        "cell_id": "00193-4880a8f9-4348-4d96-9b4c-c36043ca0ae7",
        "deepnote_to_be_reexecuted": true,
        "source_hash": "42cfa8b8",
        "deepnote_cell_type": "code"
      },
      "source": "ip = 'poke,on=-=so:ink.to/is(vast)ever-sit'\n\n##### add your solution here\nassert ___ == ['so', 'is', 'sit']",
      "execution_count": null,
      "outputs": []
    },
    {
      "cell_type": "markdown",
      "source": "**h)** Extract all whole words only if they are preceded by `=` or `:` and followed by `:` or `.`.",
      "metadata": {
        "cell_id": "00194-3feaa133-1486-44a2-9414-fe7847542f91",
        "deepnote_cell_type": "markdown"
      }
    },
    {
      "cell_type": "code",
      "metadata": {
        "cell_id": "00195-2cabd470-f153-4448-bb89-9d81dd43609d",
        "deepnote_to_be_reexecuted": true,
        "source_hash": "f5d5c10b",
        "deepnote_cell_type": "code"
      },
      "source": "ip = 'poke,on=-=so:ink.to/is(vast)ever-sit'\n\n##### add your solution here\nassert ___ == ['so', 'ink']",
      "execution_count": null,
      "outputs": []
    },
    {
      "cell_type": "markdown",
      "source": "**i)** Extract all whole words only if they are preceded by `=` or `:` or `.` or `(` or `-` and not followed by `.` or `/`.",
      "metadata": {
        "cell_id": "00196-f26b7dc6-1642-44bf-af2e-9deb72ac89c4",
        "deepnote_cell_type": "markdown"
      }
    },
    {
      "cell_type": "code",
      "metadata": {
        "cell_id": "00197-9702a5f1-48ca-4fd7-ad5c-3fb9fd979007",
        "deepnote_to_be_reexecuted": true,
        "source_hash": "9c6eaac2",
        "deepnote_cell_type": "code"
      },
      "source": "ip = 'poke,on=-=so:ink.to/is(vast)ever-sit'\n\n##### add your solution here\nassert ___ == ['so', 'vast', 'sit']",
      "execution_count": null,
      "outputs": []
    },
    {
      "cell_type": "markdown",
      "source": "**j)** Remove leading and trailing whitespaces from all the individual fields where `,` is the field separator.",
      "metadata": {
        "cell_id": "00198-752894dd-9715-41bb-95e8-8501589f6d97",
        "deepnote_cell_type": "markdown"
      }
    },
    {
      "cell_type": "code",
      "metadata": {
        "cell_id": "00199-3a72645d-ddf4-4b7c-9fe6-6b49b6405668",
        "deepnote_to_be_reexecuted": true,
        "source_hash": "dd3c2854",
        "deepnote_cell_type": "code"
      },
      "source": "csv1 = ' comma  ,separated ,values \\t\\r '\ncsv2 = 'good bad,nice  ice  , 42 , ,   stall   small'\n\nremove_whitespace = re.compile()     ##### add your solution here\n\nassert remove_whitespace.sub('', csv1) == 'comma,separated,values'\nassert remove_whitespace.sub('', csv2) == 'good bad,nice  ice,42,,stall   small'",
      "execution_count": null,
      "outputs": []
    },
    {
      "cell_type": "markdown",
      "source": "**k)** Filter all elements that satisfy all of these rules:\n\n* should have at least two alphabets\n* should have at least 3 digits\n* should have at least one special character among `%` or `*` or `#` or `$`\n* should not end with a whitespace character",
      "metadata": {
        "cell_id": "00200-859894bc-2dd1-406f-a3c7-680b42f98c5f",
        "deepnote_cell_type": "markdown"
      }
    },
    {
      "cell_type": "code",
      "metadata": {
        "cell_id": "00201-928ab45e-5731-4390-a762-8768e94ed1b1",
        "deepnote_to_be_reexecuted": true,
        "source_hash": "f95b8c6d",
        "deepnote_cell_type": "code"
      },
      "source": "pwds = ['hunter2', 'F2H3u%9', '*X3Yz3.14\\t', 'r2_d2_42', 'A $B C1234']\n\n##### add your solution here\nassert ___ == ['F2H3u%9', 'A $B C1234']",
      "execution_count": null,
      "outputs": []
    },
    {
      "cell_type": "markdown",
      "source": "**l)** For the given string, surround all whole words with `{}` except for whole words `par` and `cat` and `apple`.",
      "metadata": {
        "cell_id": "00202-1a44471b-7817-4805-8315-4045235506d3",
        "deepnote_cell_type": "markdown"
      }
    },
    {
      "cell_type": "code",
      "metadata": {
        "cell_id": "00203-6fa745ca-3a4a-4902-94ae-bc54ea40d382",
        "deepnote_to_be_reexecuted": true,
        "source_hash": "61276ef0",
        "deepnote_cell_type": "code"
      },
      "source": "ip = 'part; cat {super} rest_42 par scatter apple spar'\n\n##### add your solution here\nassert ___ == '{part}; cat {{super}} {rest_42} par {scatter} apple {spar}'",
      "execution_count": null,
      "outputs": []
    },
    {
      "cell_type": "markdown",
      "source": "**m)** Extract integer portion of floating-point numbers for the given string. A number ending with `.` and no further digits should not be considered.",
      "metadata": {
        "cell_id": "00204-d2848537-133b-4f65-972d-b5aa8ac2501a",
        "deepnote_cell_type": "markdown"
      }
    },
    {
      "cell_type": "code",
      "metadata": {
        "cell_id": "00205-2280f4be-5c1a-46ce-b295-4c553c2d92c2",
        "deepnote_to_be_reexecuted": true,
        "source_hash": "cb97bcaa",
        "deepnote_cell_type": "code"
      },
      "source": "ip = '12 ab32.4 go 5 2. 46.42 5'\n\n##### add your solution here\nassert ___ == ['32', '46']",
      "execution_count": null,
      "outputs": []
    },
    {
      "cell_type": "markdown",
      "source": "**n)** For the given input strings, extract all overlapping two character sequences.",
      "metadata": {
        "cell_id": "00206-8dfa872b-253e-4831-a362-69a38cf26e1d",
        "deepnote_cell_type": "markdown"
      }
    },
    {
      "cell_type": "code",
      "metadata": {
        "cell_id": "00207-117c7bf4-2eec-48f8-a879-75f1a084ca22",
        "deepnote_to_be_reexecuted": true,
        "source_hash": "4e776896",
        "deepnote_cell_type": "code"
      },
      "source": "s1 = 'apple'\ns2 = '1.2-3:4'\n\npat = re.compile()       ##### add your solution here\n\n##### add your solution here for s1\nassert ___ == ['ap', 'pp', 'pl', 'le']\n##### add your solution here for s2\nassert ___ == ['1.', '.2', '2-', '-3', '3:', ':4']",
      "execution_count": null,
      "outputs": []
    },
    {
      "cell_type": "markdown",
      "source": "**o)** The given input strings contain fields separated by `:` character. Delete `:` and the last field if there is a digit character anywhere before the last field.",
      "metadata": {
        "cell_id": "00208-fea13e89-b1fb-4be1-843d-3cdcfb5994d8",
        "deepnote_cell_type": "markdown"
      }
    },
    {
      "cell_type": "code",
      "metadata": {
        "cell_id": "00209-b8b804e8-d877-4dba-8ff7-7fa7213bf650",
        "deepnote_to_be_reexecuted": true,
        "source_hash": "66c4b2fc",
        "deepnote_cell_type": "code"
      },
      "source": "s1 = '42:cat'\ns2 = 'twelve:a2b'\ns3 = 'we:be:he:0:a:b:bother'\n\npat = re.compile()      ##### add your solution here\n\nassert pat.sub() == '42'\nassert pat.sub() == 'twelve:a2b'\nassert pat.sub() == 'we:be:he:0:a:b'",
      "execution_count": null,
      "outputs": []
    },
    {
      "cell_type": "markdown",
      "source": "**p)** Extract all whole words unless they are preceded by `:` or `<=>` or `----` or `#`.",
      "metadata": {
        "cell_id": "00210-6358a0b5-c99d-44a3-ba1f-5d36202dbb4c",
        "deepnote_cell_type": "markdown"
      }
    },
    {
      "cell_type": "code",
      "metadata": {
        "cell_id": "00211-75075572-8fca-40a5-a685-66462862d53d",
        "deepnote_to_be_reexecuted": true,
        "source_hash": "71a2592c",
        "deepnote_cell_type": "code"
      },
      "source": "ip = '::very--at<=>row|in.a_b#b2c=>lion----east'\n\n##### add your solution here\nassert ___ == ['at', 'in', 'a_b', 'lion']",
      "execution_count": null,
      "outputs": []
    },
    {
      "cell_type": "markdown",
      "source": "**q)** Match strings if it contains `qty` followed by `price` but not if there is **whitespace** or the string `error` between them.",
      "metadata": {
        "cell_id": "00212-bce19280-04e6-4e47-94f5-409b9e60e8a7",
        "deepnote_cell_type": "markdown"
      }
    },
    {
      "cell_type": "code",
      "metadata": {
        "cell_id": "00213-c83974d5-207d-4d70-b383-ca0e2fde8ef5",
        "deepnote_to_be_reexecuted": true,
        "source_hash": "e6db65d2",
        "deepnote_cell_type": "code"
      },
      "source": "str1 = '23,qty,price,42'\nstr2 = 'qty price,oh'\nstr3 = '3.14,qty,6,errors,9,price,3'\nstr4 = '42\\nqty-6,apple-56,price-234,error'\nstr5 = '4,price,3.14,qty,4'\n\nneg = re.compile()       ##### add your solution here\n\nassert bool(neg.search(str1)) == True\nassert bool(neg.search(str2)) == False\nassert bool(neg.search(str3)) == False\nassert bool(neg.search(str4)) == True\nassert bool(neg.search(str5)) == False",
      "execution_count": null,
      "outputs": []
    },
    {
      "cell_type": "markdown",
      "source": "**r)** Can you reason out why the output shown is different for these two regular expressions?",
      "metadata": {
        "cell_id": "00214-40eb95a3-6525-481d-b5de-c91f7b26d0a2",
        "deepnote_cell_type": "markdown"
      }
    },
    {
      "cell_type": "code",
      "metadata": {
        "cell_id": "00215-ae3f8ed4-11a4-48e0-80a0-6127ec5adce0",
        "deepnote_to_be_reexecuted": true,
        "source_hash": "94c9af2f",
        "deepnote_cell_type": "code"
      },
      "source": "ip = 'I have 12, he has 2!'\n\nassert re.sub(r'\\b..\\b', '{\\g<0>}', ip) == '{I }have {12}{, }{he} has{ 2}!'\n\nassert re.sub(r'(?<!\\w)..(?!\\w)', '{\\g<0>}', ip) == 'I have {12}, {he} has {2!}'",
      "execution_count": null,
      "outputs": []
    },
    {
      "cell_type": "markdown",
      "source": "<br>\n\n# 10. Flags\n\n**a)** Remove from first occurrence of `hat` to last occurrence of `it` for the given input strings. Match these markers case insensitively.",
      "metadata": {
        "cell_id": "00216-29ea3ed4-79a7-417d-9b8d-9752daa118b7",
        "deepnote_cell_type": "markdown"
      }
    },
    {
      "cell_type": "code",
      "metadata": {
        "cell_id": "00217-724ce788-e37e-4e4d-8a4c-801e45674814",
        "deepnote_to_be_reexecuted": true,
        "source_hash": "c04f0577",
        "deepnote_cell_type": "code"
      },
      "source": "s1 = 'But Cool THAT\\nsee What okay\\nwow quite'\ns2 = 'it this hat is sliced HIT.'\n\npat = re.compile()       ##### add your solution here\n\nassert pat.sub('', s1) == 'But Cool Te'\nassert pat.sub('', s2) == 'it this .'",
      "execution_count": null,
      "outputs": []
    },
    {
      "cell_type": "markdown",
      "source": "**b)** Delete from `start` if it is at the beginning of a line up to the next occurrence of the `end` at the end of a line. Match these markers case insensitively.",
      "metadata": {
        "cell_id": "00218-a1316721-3cb1-41a6-bee0-aac0afb01daf",
        "deepnote_cell_type": "markdown"
      }
    },
    {
      "cell_type": "code",
      "metadata": {
        "cell_id": "00219-6e95fc30-db56-438e-bcf3-a4690763c800",
        "deepnote_to_be_reexecuted": true,
        "source_hash": "5672e468",
        "deepnote_cell_type": "code"
      },
      "source": "para = '''\ngood start\nstart working on that\nproject you always wanted\nto, do not let it end\nhi there\nstart and end the end\n42\nStart and try to\nfinish the End\nbye'''\n\npat = re.compile()        ##### add your solution here\n\nassert pat.sub('', para)) == \"\"\"\ngood start\n\nhi there\n\n42\n\nbye\"\"\"",
      "execution_count": null,
      "outputs": []
    },
    {
      "cell_type": "markdown",
      "source": "**c)** For the given input strings, match all of these three patterns:\n\n* `This` case sensitively\n* `nice` and `cool` case insensitively",
      "metadata": {
        "cell_id": "00220-d47a844f-9fdc-41aa-96b7-45e759bbfa7e",
        "deepnote_cell_type": "markdown"
      }
    },
    {
      "cell_type": "code",
      "metadata": {
        "cell_id": "00221-03a3d945-fff4-4984-9a54-ca578b93df64",
        "deepnote_to_be_reexecuted": true,
        "source_hash": "fb8b9a73",
        "deepnote_cell_type": "code"
      },
      "source": "s1 = 'This is nice and Cool'\ns2 = 'Nice and cool this is'\ns3 = 'What is so nice and cool about This?'\n\npat = re.compile()       ##### add your solution here\n\nassert bool(pat.search(s1)) == True\nassert bool(pat.search(s2)) == False\nassert bool(pat.search(s3)) == True",
      "execution_count": null,
      "outputs": []
    },
    {
      "cell_type": "markdown",
      "source": "**d)** For the given input strings, match if the string begins with `Th` and also contains a line that starts with `There`.",
      "metadata": {
        "cell_id": "00222-a27ac961-96b2-4506-b8df-9349897cd20b",
        "deepnote_cell_type": "markdown"
      }
    },
    {
      "cell_type": "code",
      "metadata": {
        "cell_id": "00223-5cc3fd5d-5fbf-4b96-82e4-d15f68864e75",
        "deepnote_to_be_reexecuted": true,
        "source_hash": "4e18675f",
        "deepnote_cell_type": "code"
      },
      "source": "s1 = 'There there\\nHave a cookie'\ns2 = 'This is a mess\\nYeah?\\nThereeeee'\ns3 = 'Oh\\nThere goes the fun'\n\npat = re.compile()     ##### add your solution here\n\nassert bool(pat.search(s1)) == True\nassert bool(pat.search(s2)) == True\nassert bool(pat.search(s3)) == False",
      "execution_count": null,
      "outputs": []
    },
    {
      "cell_type": "markdown",
      "source": "**e)** Explore what the `re.DEBUG` flag does. Here's some example patterns to check out.\n\n* `re.compile(r'\\Aden|ly\\Z', flags=re.DEBUG)`\n* `re.compile(r'\\b(0x)?[\\da-f]+\\b', flags=re.DEBUG)`\n* `re.compile(r'\\b(?:0x)?[\\da-f]+\\b', flags=re.I|re.DEBUG)`\n\n<br>\n\n# 11. Unicode\n\n**a)** Output `True` or `False` depending on input string made up of ASCII characters or not. Consider the input to be non-empty strings and any character that isn't part of 7-bit ASCII set should give `False`. Do you need regular expressions for this?",
      "metadata": {
        "cell_id": "00224-8b886f67-1e79-4aec-b31a-5ef3e35c50f6",
        "deepnote_cell_type": "markdown"
      }
    },
    {
      "cell_type": "code",
      "metadata": {
        "cell_id": "00225-d47f99f6-a925-4d9d-87b4-09b72e5725f0",
        "deepnote_to_be_reexecuted": true,
        "source_hash": "2133ad62",
        "deepnote_cell_type": "code"
      },
      "source": "str1 = '123—456'\nstr2 = 'good fοοd'\nstr3 = 'happy learning!'\nstr4 = 'İıſK'\n\n##### add your solution here for str1\nassert ___ == False\n##### add your solution here for str2\nassert ___ == False\n##### add your solution here for str3\nassert ___ == True\n##### add your solution here for str4\nassert ___ == False",
      "execution_count": null,
      "outputs": []
    },
    {
      "cell_type": "markdown",
      "source": "**b)** Does `.` quantifier with `re.ASCII` flag enabled match non-ASCII characters?\n\n**c)** Explore the following Q&A threads.\n\n* [stackoverflow: remove powered number from string](https://stackoverflow.com/questions/57553721/remove-powered-number-from-string-in-python)\n* [stackoverflow: regular expression for French characters](https://stackoverflow.com/questions/1922097/regular-expression-for-french-characters)\n\n<br>\n\n# 12. regex module\n\nThis part is super optional, it has you using the non-builtin `regex` module (https://pypi.org/project/regex/). I've never actually tried it. I skimmed through its features, and it doesn't strike me as adding *that* much more functionality.\n\n**a)** Filter all elements whose first non-whitespace character is not a `#` character. Any element made up of only whitespace characters should be ignored as well.",
      "metadata": {
        "cell_id": "00226-b318799b-aa85-4531-9eae-91a321354098",
        "deepnote_cell_type": "markdown"
      }
    },
    {
      "cell_type": "code",
      "metadata": {
        "cell_id": "00227-0c28c551-17eb-4766-a5eb-2158c4397499",
        "deepnote_to_be_reexecuted": true,
        "source_hash": "f29dc9c8",
        "deepnote_cell_type": "code"
      },
      "source": "items = ['    #comment', '\\t\\napple #42', '#oops', 'sure', 'no#1', '\\t\\r\\f']\n\n##### add your solution here\nassert ___ == ['\\t\\napple #42', 'sure', 'no#1']",
      "execution_count": null,
      "outputs": []
    },
    {
      "cell_type": "markdown",
      "source": "**b)** Replace sequences made up of words separated by `:` or `.` by the first word of the sequence and the separator. Such sequences will end when `:` or `.` is not followed by a word character.",
      "metadata": {
        "cell_id": "00228-c6155ecf-b90a-4009-b8f3-f7ca8bcffc79",
        "deepnote_cell_type": "markdown"
      }
    },
    {
      "cell_type": "code",
      "metadata": {
        "cell_id": "00229-aafc2200-fc2e-4678-a3af-f0127c1ef72d",
        "deepnote_to_be_reexecuted": true,
        "source_hash": "936cf264",
        "deepnote_cell_type": "code"
      },
      "source": "ip = 'wow:Good:2_two:five: hi bye kite.777.water.'\n\n##### add your solution here\nassert ___ == 'wow: hi bye kite.'",
      "execution_count": null,
      "outputs": []
    },
    {
      "cell_type": "markdown",
      "source": "**c)** The given list of strings has fields separated by `:` character. Delete `:` and the last field if there is a digit character anywhere before the last field.",
      "metadata": {
        "cell_id": "00230-ad8b243c-1c2c-46eb-9bdc-abb997d3c403",
        "deepnote_cell_type": "markdown"
      }
    },
    {
      "cell_type": "code",
      "metadata": {
        "cell_id": "00231-15ede236-b1fb-4694-8e8e-08bd9413c6b2",
        "deepnote_to_be_reexecuted": true,
        "source_hash": "6e6ebd80",
        "deepnote_cell_type": "code"
      },
      "source": "items = ['42:cat', 'twelve:a2b', 'we:be:he:0:a:b:bother']\n\n##### add your solution here\nassert ___ == ['42', 'twelve:a2b', 'we:be:he:0:a:b']",
      "execution_count": null,
      "outputs": []
    },
    {
      "cell_type": "markdown",
      "source": "**d)** Extract all whole words unless they are preceded by `:` or `<=>` or `----` or `#`.",
      "metadata": {
        "cell_id": "00232-b5453038-f2fd-4504-a863-70caab9678dd",
        "deepnote_cell_type": "markdown"
      }
    },
    {
      "cell_type": "code",
      "metadata": {
        "cell_id": "00233-ef59ab70-5289-47d6-9a46-dffbb0560d9b",
        "deepnote_to_be_reexecuted": true,
        "source_hash": "71a2592c",
        "deepnote_cell_type": "code"
      },
      "source": "ip = '::very--at<=>row|in.a_b#b2c=>lion----east'\n\n##### add your solution here\nassert ___ == ['at', 'in', 'a_b', 'lion']",
      "execution_count": null,
      "outputs": []
    },
    {
      "cell_type": "markdown",
      "source": "**e)** The given input string has fields separated by `:` character. Extract all fields if the previous field contains a digit character.",
      "metadata": {
        "cell_id": "00234-0d5c06ef-3f4a-4d5c-a7d7-740703dadcb5",
        "deepnote_cell_type": "markdown"
      }
    },
    {
      "cell_type": "code",
      "metadata": {
        "cell_id": "00235-c4fd3c47-d6fc-4c9e-a9c8-198acbe7b693",
        "deepnote_to_be_reexecuted": true,
        "source_hash": "85fa7c71",
        "deepnote_cell_type": "code"
      },
      "source": "ip = 'vast:a2b2:ride:in:awe:b2b:3list:end'\n\n##### add your solution here\nassert ___ == ['ride', '3list', 'end']",
      "execution_count": null,
      "outputs": []
    },
    {
      "cell_type": "markdown",
      "source": "**f)** The given input string has fields separated by `:` character. Delete all fields, including the separator, unless the field contains a digit character. Stop deleting once a field with digit character is found.",
      "metadata": {
        "cell_id": "00236-36b2fba6-a9f1-4ceb-a8af-9463fb390daa",
        "deepnote_cell_type": "markdown"
      }
    },
    {
      "cell_type": "code",
      "metadata": {
        "cell_id": "00237-b1917159-30dc-4ef7-8917-e524a19ee02a",
        "deepnote_to_be_reexecuted": true,
        "source_hash": "43cba78a",
        "deepnote_cell_type": "code"
      },
      "source": "row1 = 'vast:a2b2:ride:in:awe:b2b:3list:end'\nrow2 = 'um:no:low:3e:s4w:seer'\n\npat = regex.compile()      ##### add your solution here\n\nassert pat.sub('', row1) == 'a2b2:ride:in:awe:b2b:3list:end'\nassert pat.sub('', row2) == '3e:s4w:seer'",
      "execution_count": null,
      "outputs": []
    },
    {
      "cell_type": "markdown",
      "source": "**g)** For the given input strings, extract `if` followed by any number of nested parentheses. Assume that there will be only one such pattern per input string.",
      "metadata": {
        "cell_id": "00238-89f8240d-c518-4b9d-97d5-852b49ffdec8",
        "deepnote_cell_type": "markdown"
      }
    },
    {
      "cell_type": "code",
      "metadata": {
        "cell_id": "00239-d06206e6-b726-48fb-a658-3387732d7e57",
        "deepnote_to_be_reexecuted": true,
        "source_hash": "dccf0740",
        "deepnote_cell_type": "code"
      },
      "source": "ip1 = 'for (((i*3)+2)/6) if(3-(k*3+4)/12-(r+2/3)) while()'\nip2 = 'if+while if(a(b)c(d(e(f)1)2)3) for(i=1)'\n\npat = regex.compile()       ##### add your solution here\n\nassert pat.search(ip1)[0] == 'if(3-(k*3+4)/12-(r+2/3))'\nassert pat.search(ip2)[0] == 'if(a(b)c(d(e(f)1)2)3)'",
      "execution_count": null,
      "outputs": []
    },
    {
      "cell_type": "markdown",
      "source": "**h)** Read about `POSIX` flag from https://pypi.org/project/regex/. Is the following code snippet showing the correct output?",
      "metadata": {
        "cell_id": "00240-c339d4db-c847-46f8-887a-a6640c2efbc9",
        "deepnote_cell_type": "markdown"
      }
    },
    {
      "cell_type": "code",
      "metadata": {
        "cell_id": "00241-78843b9e-c454-46a4-b1f9-52fe90b47397",
        "deepnote_to_be_reexecuted": true,
        "source_hash": "8e124f76",
        "deepnote_cell_type": "code"
      },
      "source": "words = 'plink incoming tint winter in caution sentient'\n\nchange = regex.compile(r'int|in|ion|ing|inco|inter|ink', flags=regex.POSIX)\n\nassert change.sub('X', words) == 'plX XmX tX wX X cautX sentient'",
      "execution_count": null,
      "outputs": []
    },
    {
      "cell_type": "markdown",
      "source": "**i)** Extract all whole words for the given input strings. However, based on user input `ignore`, do not match words if they contain any character present in the `ignore` variable.",
      "metadata": {
        "cell_id": "00242-cb052c24-c602-4a68-9d1e-19e681eb1b73",
        "deepnote_cell_type": "markdown"
      }
    },
    {
      "cell_type": "code",
      "metadata": {
        "cell_id": "00243-cea0eed3-9fdf-41a9-acfb-cdc5c668eb17",
        "deepnote_to_be_reexecuted": true,
        "source_hash": "4be8edb5",
        "deepnote_cell_type": "code"
      },
      "source": "s1 = 'match after the last newline character'\ns2 = 'and then you want to test'\n\nignore = 'aty'\nassert regex.findall() == ['newline']\nassert regex.findall() == []\n\nignore = 'esw'\nassert regex.findall() == ['match']\nassert regex.findall() == ['and', 'you', 'to']",
      "execution_count": null,
      "outputs": []
    },
    {
      "cell_type": "markdown",
      "source": "**j)** Retain only punctuation characters for the given strings (generated from codepoints). Use Unicode character set definition for punctuation for solving this exercise.",
      "metadata": {
        "cell_id": "00244-4e1a0605-296c-4617-83d2-0c48d02c1a09",
        "deepnote_cell_type": "markdown"
      }
    },
    {
      "cell_type": "code",
      "metadata": {
        "cell_id": "00245-a0e5a69f-cff7-47ee-a8be-660ba7198373",
        "deepnote_to_be_reexecuted": true,
        "source_hash": "9acaec33",
        "deepnote_cell_type": "code"
      },
      "source": "s1 = ''.join(chr(c) for c in range(0, 0x80))\ns2 = ''.join(chr(c) for c in range(0x80, 0x100))\ns3 = ''.join(chr(c) for c in range(0x2600, 0x27ec))\n\npat = regex.compile()       ##### add your solution here\n\nassert pat.sub('', s1) == '!\"#%&\\'()*,-./:;?@[\\\\]_{}'\nassert pat.sub('', s2) == '¡§«¶·»¿'\nassert pat.sub('', s3) == '❨❩❪❫❬❭❮❯❰❱❲❳❴❵⟅⟆⟦⟧⟨⟩⟪⟫'",
      "execution_count": null,
      "outputs": []
    },
    {
      "cell_type": "markdown",
      "source": "**k)** For the given **markdown** file, replace all occurrences of the string `python` (irrespective of case) with the string `Python`. However, any match within code blocks that start with whole line ` ```python ` and end with whole line ` ``` ` shouldn't be replaced. Consider the input file to be small enough to fit memory requirements.\n\nRefer to [github: exercises folder](https://github.com/learnbyexample/py_regular_expressions/tree/master/exercises) for files `sample.md` and `expected.md` required to solve this exercise.",
      "metadata": {
        "cell_id": "00246-9f0d3389-fd62-4ce4-afaf-93b429fd48b6",
        "deepnote_cell_type": "markdown"
      }
    },
    {
      "cell_type": "code",
      "metadata": {
        "cell_id": "00247-1dab36e2-0ed5-4a95-8b74-9a26573fdb5a",
        "deepnote_to_be_reexecuted": true,
        "source_hash": "7e0b53cd",
        "deepnote_cell_type": "code"
      },
      "source": "ip_str = open('sample.md', 'r').read()\npat = regex.compile()      ##### add your solution here\nwith open('sample_mod.md', 'w') as op_file:\n    ##### add your solution here\n\n305\nassert open('sample_mod.md').read() == open('expected.md').read()",
      "execution_count": null,
      "outputs": []
    },
    {
      "cell_type": "markdown",
      "source": "**l)** For the given input strings, construct a word that is made up of last characters of all the words in the input. Use last character of last word as first character, last character of last but one word as second character and so on.",
      "metadata": {
        "cell_id": "00248-12f65d92-c47d-4e30-a5e4-8423af3fb802",
        "deepnote_cell_type": "markdown"
      }
    },
    {
      "cell_type": "code",
      "metadata": {
        "cell_id": "00249-0e80ffdd-b100-4014-b22b-163b36fd70b4",
        "deepnote_to_be_reexecuted": true,
        "source_hash": "cb6a13ce",
        "deepnote_cell_type": "code"
      },
      "source": "s1 = 'knack tic pi roar what'\ns2 = '42;rod;t2t2;car'\n\npat = regex.compile()       ##### add your solution here\n\n##### add your solution here for s1\nassert ___ == 'trick'\n##### add your solution here for s2\nassert ___ == 'r2d2'",
      "execution_count": null,
      "outputs": []
    },
    {
      "cell_type": "markdown",
      "source": "**m)** Replicate `str.rpartition` functionality with regular expressions. Split into three parts based on last match of sequences of digits, which is `777` and `12` for the given input strings.",
      "metadata": {
        "cell_id": "00250-e551fcf9-2dca-45b4-a93b-75b2d3845ce3",
        "deepnote_cell_type": "markdown"
      }
    },
    {
      "cell_type": "code",
      "metadata": {
        "cell_id": "00251-62bf28df-9500-42b1-9a4b-0df62ce85ba5",
        "deepnote_to_be_reexecuted": true,
        "source_hash": "d3866a31",
        "deepnote_cell_type": "code"
      },
      "source": "s1 = 'Sample123string42with777numbers'\ns2 = '12apples'\n\n##### add your solution here for s1\nassert ___ == ['Sample123string42with', '777', 'numbers']\n##### add your solution here for s2\nassert ___ == ['', '12', 'apples']",
      "execution_count": null,
      "outputs": []
    },
    {
      "cell_type": "markdown",
      "source": "**n)** Read about fuzzy matching on https://pypi.org/project/regex/. For the given input strings, return `True` if they are exactly same as `cat` or there is exactly one character difference. Ignore case when comparing differences. For example, `Ca2` should give `True`. `act` will be `False` even though the characters are same because position should be maintained.",
      "metadata": {
        "cell_id": "00252-0a2e4321-85b2-4cda-b2ec-d80f87af782a",
        "deepnote_cell_type": "markdown"
      }
    },
    {
      "cell_type": "code",
      "metadata": {
        "cell_id": "00253-f169b390-f343-47a8-9432-53f6d5c3bcb6",
        "deepnote_to_be_reexecuted": true,
        "source_hash": "d07673e2",
        "deepnote_cell_type": "code"
      },
      "source": "pat = regex.compile()       ##### add your solution here\n\nassert bool(pat.fullmatch('CaT')) == True\nassert bool(pat.fullmatch('scat')) == False\nassert bool(pat.fullmatch('ca.')) == True\nassert bool(pat.fullmatch('ca#')) == True\nassert bool(pat.fullmatch('c#t')) == True\nassert bool(pat.fullmatch('at')) == False\nassert bool(pat.fullmatch('act')) == False\nassert bool(pat.fullmatch('2a1')) == False",
      "execution_count": null,
      "outputs": []
    },
    {
      "cell_type": "markdown",
      "source": "<a style='text-decoration:none;line-height:16px;display:flex;color:#5B5B62;padding:10px;justify-content:end;' href='https://deepnote.com?utm_source=created-in-deepnote-cell&projectId=1be04a83-f115-461b-beac-c091c2970fb9' target=\"_blank\">\n<img alt='Created in deepnote.com' style='display:inline;max-height:16px;margin:0px;margin-right:7.5px;' src='data:image/svg+xml;base64,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' > </img>\nCreated in <span style='font-weight:600;margin-left:4px;'>Deepnote</span></a>",
      "metadata": {
        "tags": [],
        "created_in_deepnote_cell": true,
        "deepnote_cell_type": "markdown"
      }
    }
  ],
  "nbformat": 4,
  "nbformat_minor": 5,
  "metadata": {
    "kernelspec": {
      "display_name": "Python 3",
      "language": "python",
      "name": "python3"
    },
    "language_info": {
      "codemirror_mode": {
        "name": "ipython",
        "version": 3
      },
      "file_extension": ".py",
      "mimetype": "text/x-python",
      "name": "python",
      "nbconvert_exporter": "python",
      "pygments_lexer": "ipython3",
      "version": "3.7.2"
    },
    "deepnote_notebook_id": "5558f126-764c-4d5f-b3d0-8709bd764ebd",
    "deepnote": {},
    "deepnote_execution_queue": []
  }
}